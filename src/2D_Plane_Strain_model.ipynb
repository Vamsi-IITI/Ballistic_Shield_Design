{
 "cells": [
  {
   "cell_type": "markdown",
   "id": "bf3174f8",
   "metadata": {},
   "source": [
    "# 2D Plane Strain Analysis of a Pipe Due to Internal Pressure"
   ]
  },
  {
   "cell_type": "markdown",
   "id": "56fb57dd-dd34-4103-8e0d-36fb4d6f1e9b",
   "metadata": {
    "jp-MarkdownHeadingCollapsed": true,
    "tags": []
   },
   "source": [
    "## Objective\n",
    "In this example we will perform stress analysis of pipe due to internal pressure. Due to the symmetry in geometry and loading, the strain along its axis is negligible and therefore we model this system as 2D plane strain.\n",
    "\n",
    "The learning objectives are:\n",
    "* Launch MAPDL instance\n",
    "* Setup the model as Python function using PyMAPDL\n",
    "* Automate mesh convergence study\n",
    "* Plot results of interest\n",
    "\n",
    "### Model Details\n",
    "<div>\n",
    "    <img src=\"attachment:e86da97d-7b6c-4260-be92-9bad042e22e8.png\" width=\"700\"/>\n",
    "</div>\n",
    "\n",
    "### Additional Packages Used\n",
    "* [Matplotlib](https://matplotlib.org/) is used for 2d plotting.\n",
    "* [Numpy](https://numpy.org/) is used for using Numpy arrays."
   ]
  },
  {
   "cell_type": "markdown",
   "id": "ab529f8d-f82b-4c42-ba13-b842877c18d7",
   "metadata": {
    "tags": []
   },
   "source": [
    "## Step 1 - Launch PyMAPDL"
   ]
  },
  {
   "cell_type": "code",
   "execution_count": 1,
   "id": "04aef479-02d4-478b-a069-73900dc646db",
   "metadata": {},
   "outputs": [
    {
     "name": "stdout",
     "output_type": "stream",
     "text": [
      "Product:             Ansys Mechanical Enterprise\n",
      "MAPDL Version:       23.1\n",
      "ansys.mapdl Version: 0.64.0\n",
      "\n"
     ]
    }
   ],
   "source": [
    "import numpy as np\n",
    "import matplotlib.pyplot as plt\n",
    "from ansys.mapdl.core import launch_mapdl\n",
    "\n",
    "# start mapdl\n",
    "mapdl = launch_mapdl()\n",
    "print(mapdl)"
   ]
  },
  {
   "cell_type": "markdown",
   "id": "48281382",
   "metadata": {},
   "source": [
    "## Step 2 - Setup the pipe cross section using Python function\n",
    "\n",
    "We use a function here so we can rebuild the pipe using parameters rather than calling a script several times."
   ]
  },
  {
   "cell_type": "code",
   "execution_count": 2,
   "id": "5087521f",
   "metadata": {},
   "outputs": [],
   "source": [
    "def pipe_plane_strain(e, nu, inn_radius, out_radius, press, AESIZE):\n",
    "    \"\"\"Create 2D cross section modeling a pipe.\"\"\"\n",
    "\n",
    "    # reset mapdl\n",
    "    mapdl.clear()\n",
    "    mapdl.prep7()\n",
    "\n",
    "    # Define element attributes\n",
    "    # Quad 4 node 182 with keyoption 3 = 2 (plain strain formulation)\n",
    "    mapdl.et(1, \"PLANE182\", kop3=2)\n",
    "\n",
    "    # Create geometry\n",
    "    # create a quadrant of the pressure vessel\n",
    "    # We perform plane strain analysis on one quadrant (0deg - 90deg) of the\n",
    "    # pressure vessel\n",
    "    mapdl.pcirc(inn_radius, out_radius, theta1=0, theta2=90)\n",
    "    mapdl.cm(\"PIPE_PROFILE\", \"AREA\")\n",
    "\n",
    "    # Define material properties\n",
    "    mapdl.mp(\"EX\", 1, e)  # Youngs modulus\n",
    "    mapdl.mp(\"PRXY\", 1, nu)  # Poissons ratio\n",
    "\n",
    "    # Define mesh controls\n",
    "    mapdl.aesize(\"ALL\", AESIZE)\n",
    "    mapdl.mshape(0, \"2D\")  # mesh the area with 2D Quad elements\n",
    "    mapdl.mshkey(1)  # mapped mesh\n",
    "    mapdl.cmsel(\"S\", \"PIPE_PROFILE\")  # Select the area component to be meshed\n",
    "    mapdl.amesh(\"ALL\")\n",
    "\n",
    "    # Create components for defining loads and constraints\n",
    "    mapdl.nsel(\"S\", \"LOC\", \"X\", 0)  # Select nodes on top left edge\n",
    "    mapdl.cm(\"X_FIXED\", \"NODES\")  # Create nodal component\n",
    "\n",
    "    mapdl.nsel(\"S\", \"LOC\", \"Y\", 0)  # Select nodes on bottom right edge\n",
    "    mapdl.cm(\"Y_FIXED\", \"NODES\")  # Create nodal component\n",
    "    mapdl.allsel()\n",
    "\n",
    "    mapdl.lsel(\"S\", \"RADIUS\", vmin=rad1)  # Select the line along inner radius\n",
    "    mapdl.cm(\"PRESSURE_EDGE\", \"LINE\")  # Create a line component\n",
    "    mapdl.allsel()\n",
    "\n",
    "    # Define solution controls\n",
    "    mapdl.slashsolu()  # Enter solution\n",
    "    mapdl.antype(\"STATIC\", \"NEW\")  # Specify a new static analysis (Optional)\n",
    "\n",
    "    mapdl.d(\"X_FIXED\", \"UX\", 0)  # Fix the selected nodes in X direction\n",
    "    mapdl.d(\"Y_FIXED\", \"UY\", 0)  # Fix the selected nodes in Y direction\n",
    "\n",
    "    # Change the active Cartesian Coordinate system to Cylindrical Coordinate system\n",
    "    mapdl.csys(1)\n",
    "\n",
    "    # Apply uniform pressure load to the selected edge\n",
    "    mapdl.sfl(\"PRESSURE_EDGE\", \"PRES\", press)\n",
    "\n",
    "    # Solve the model\n",
    "    mapdl.allsel()\n",
    "    mapdl.solve()\n",
    "    mapdl.finish()\n",
    "\n",
    "    # Enter post-processor\n",
    "    mapdl.post1()\n",
    "    mapdl.set(1, 1)  # Select the first load step\n",
    "\n",
    "    max_eqv_stress = np.max(mapdl.post_processing.nodal_eqv_stress())\n",
    "    all_dof = mapdl.mesh.nnum_all\n",
    "    num_dof = 2*all_dof.size  # Degrees of freedom is twice the number of nodes\n",
    "\n",
    "    return num_dof, max_eqv_stress"
   ]
  },
  {
   "cell_type": "markdown",
   "id": "4e75dc60-439d-4df9-8c92-a9ffbfba35c4",
   "metadata": {},
   "source": [
    "## Step 3 - Perform Mesh Convergence Study"
   ]
  },
  {
   "cell_type": "code",
   "execution_count": 3,
   "id": "eeb1b3bb-84c7-48b9-8248-934b52a4bb24",
   "metadata": {},
   "outputs": [
    {
     "name": "stdout",
     "output_type": "stream",
     "text": [
      "DOF:    56   #Stress: 702.42 MPa\n",
      "DOF:    96   #Stress: 725.72 MPa\n",
      "DOF:   114   #Stress: 725.63 MPa\n",
      "DOF:   132   #Stress: 725.57 MPa\n",
      "DOF:   156   #Stress: 725.52 MPa\n",
      "DOF:   248   #Stress: 733.64 MPa\n",
      "DOF:   288   #Stress: 733.62 MPa\n",
      "DOF:   430   #Stress: 737.75 MPa\n",
      "DOF:   500   #Stress: 737.74 MPa\n",
      "DOF:   708   #Stress: 740.25 MPa\n",
      "DOF:   980   #Stress: 741.93 MPa\n",
      "DOF:  1312   #Stress: 743.13 MPa\n",
      "DOF:  1746   #Stress: 744.04 MPa\n",
      "DOF:  2530   #Stress: 745.32 MPa\n",
      "DOF:  3264   #Stress: 745.78 MPa\n",
      "DOF:  4508   #Stress: 746.50 MPa\n",
      "DOF:  6460   #Stress: 747.24 MPa\n",
      "DOF:  8550   #Stress: 747.60 MPa\n",
      "DOF: 12282   #Stress: 748.12 MPa\n",
      "DOF: 16432   #Stress: 748.40 MPa\n"
     ]
    }
   ],
   "source": [
    "# Define model input parameters\n",
    "rad1 = 175  # Internal radius\n",
    "rad2 = 200  # External radius\n",
    "pressure = 100\n",
    "\n",
    "e = 2e5  # Young's modulus\n",
    "nu = 0.3  # Poisson's ratio\n",
    "\n",
    "# Define mesh convergence parameters\n",
    "num_dof = []\n",
    "max_stress = []\n",
    "\n",
    "# element size: use log space since mesh converges logarithmically\n",
    "esizes = np.logspace(1.4, 0, 20)\n",
    "\n",
    "# run the mesh convergence and output the results on the fly\n",
    "for esize in esizes:\n",
    "    dof, eqv_stress = pipe_plane_strain(e, nu, rad1, rad2, pressure, esize)\n",
    "    num_dof.append(dof)\n",
    "    max_stress.append(eqv_stress)\n",
    "    print(f'DOF: {dof:5d}   #Stress: {eqv_stress:.2f} MPa')"
   ]
  },
  {
   "cell_type": "markdown",
   "id": "fc124711-c86e-40ee-bce4-f886dd5e8b0d",
   "metadata": {},
   "source": [
    "### Plot mesh convergence results"
   ]
  },
  {
   "cell_type": "code",
   "execution_count": 4,
   "id": "49fd7fe0-52be-4f89-abda-7b44be5c6224",
   "metadata": {},
   "outputs": [
    {
     "data": {
      "image/png": "[encoded data removed]",
      "text/plain": [
       "<Figure size 640x480 with 1 Axes>"
      ]
     },
     "metadata": {},
     "output_type": "display_data"
    }
   ],
   "source": [
    "plt.figure(figsize=(8, 6), dpi=80)\n",
    "plt.plot(num_dof, max_stress, 'b-o')\n",
    "plt.plot([num_dof[0], num_dof[-1]], [max_stress[-1], max_stress[-1]], 'r:')\n",
    "plt.title('Mesh Convergence Study')\n",
    "plt.xlabel('Number of DOF')\n",
    "plt.ylabel('Maximum eqv. Stress (MPa)')\n",
    "plt.show()"
   ]
  },
  {
   "cell_type": "markdown",
   "id": "d7f2c654-d243-4366-81ab-c1ea22831057",
   "metadata": {},
   "source": [
    "## Step 4 - Plot results from converged mesh analysis"
   ]
  },
  {
   "cell_type": "code",
   "execution_count": 5,
   "id": "5d2851b5-732a-44cd-9d39-98a8d71acd83",
   "metadata": {},
   "outputs": [
    {
     "data": {
      "text/plain": [
       "SELECT ALL ENTITIES OF TYPE= ALL  AND BELOW"
      ]
     },
     "execution_count": 5,
     "metadata": {},
     "output_type": "execute_result"
    }
   ],
   "source": [
    "# Plot the final mesh used\n",
    "mapdl.allsel('ALL')\n",
    "# mapdl.eplot(\n",
    "#     title='Element Plot', line_width=1, show_bounds=True, cpos=\"xy\"\n",
    "# )"
   ]
  },
  {
   "cell_type": "markdown",
   "id": "ddf80db0-2652-4a8a-a202-a9322e68c3f4",
   "metadata": {},
   "source": [
    "#### Plot nodal displacement"
   ]
  },
  {
   "cell_type": "code",
   "execution_count": 6,
   "id": "ca5b1a34-73fa-4109-be85-8cf0f79ca28d",
   "metadata": {
    "tags": []
   },
   "outputs": [
    {
     "data": {
      "application/vnd.jupyter.widget-view+json": {
       "model_id": "d46c4030ed9b4dfbbefec39c62b973b5",
       "version_major": 2,
       "version_minor": 0
      },
      "text/plain": [
       "ViewInteractiveWidget(height=768, layout=Layout(height='auto', width='100%'), width=1024)"
      ]
     },
     "metadata": {},
     "output_type": "display_data"
    }
   ],
   "source": [
    "# Enter post-processing (/POST1) and select the first load step\n",
    "mapdl.post1()\n",
    "mapdl.set(1, 1)\n",
    "\n",
    "mapdl.post_processing.plot_nodal_displacement(\n",
    "    'NORM', cpos=\"xy\", cmap=\"magma\",\n",
    ")"
   ]
  },
  {
   "cell_type": "markdown",
   "id": "a12586ef-4ef4-472f-a3cd-1e83e3ca8f0b",
   "metadata": {},
   "source": [
    "#### Plot nodal equivalent stress"
   ]
  },
  {
   "cell_type": "code",
   "execution_count": 7,
   "id": "3f21e42d-937b-4fd9-a835-3321c8e3aa9d",
   "metadata": {},
   "outputs": [
    {
     "data": {
      "application/vnd.jupyter.widget-view+json": {
       "model_id": "6d24c875a7a1440bbfe092a2d4f0aa50",
       "version_major": 2,
       "version_minor": 0
      },
      "text/plain": [
       "ViewInteractiveWidget(height=768, layout=Layout(height='auto', width='100%'), width=1024)"
      ]
     },
     "metadata": {},
     "output_type": "display_data"
    }
   ],
   "source": [
    "mapdl.post_processing.plot_nodal_eqv_stress(cpos=\"xy\", cmap=\"magma\")"
   ]
  },
  {
   "cell_type": "markdown",
   "id": "339876b3-d8fe-404f-a6c8-b5c4b7baf007",
   "metadata": {},
   "source": [
    "#### Exit MAPDL"
   ]
  },
  {
   "cell_type": "code",
   "execution_count": 8,
   "id": "70a10cef-bb43-4fff-aae1-c2f2c52c582e",
   "metadata": {},
   "outputs": [],
   "source": [
    "mapdl.exit()"
   ]
  },
  {
   "cell_type": "code",
   "execution_count": null,
   "id": "0579b865-c3ee-4ca5-8b1d-015b2de6c0cf",
   "metadata": {},
   "outputs": [],
   "source": []
  }
 ],
 "metadata": {
  "kernelspec": {
   "display_name": "Python 3 (ipykernel)",
   "language": "python",
   "name": "python3"
  },
  "language_info": {
   "codemirror_mode": {
    "name": "ipython",
    "version": 3
   },
   "file_extension": ".py",
   "mimetype": "text/x-python",
   "name": "python",
   "nbconvert_exporter": "python",
   "pygments_lexer": "ipython3",
   "version": "3.11.6"
  }
 },
 "nbformat": 4,
 "nbformat_minor": 5
}
