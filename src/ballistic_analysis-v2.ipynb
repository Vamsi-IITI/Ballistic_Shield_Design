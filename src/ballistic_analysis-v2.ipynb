{
 "cells": [
  {
   "cell_type": "markdown",
   "metadata": {},
   "source": [
    "# Numerical Simulation of Ballistic Performance of Honeycomb Sandwich Panels"
   ]
  },
  {
   "cell_type": "markdown",
   "metadata": {},
   "source": [
    "### Objective:\n",
    "Setup a parametric model in PyMAPDL for a honeycomb sandwich panel. Use it for running a Ballistic impact simulation\n",
    "\n",
    "The learning objectives of this demo are:\n",
    "* Setup and solve a parametric model using PyMAPDL\n",
    "* Interactive plotting of CAD, mesh, and results in Pythonic interface."
   ]
  },
  {
   "cell_type": "markdown",
   "metadata": {},
   "source": [
    "### Model Details\n",
    "\n",
    "#### Model parameters:\n",
    "* Cell size\n",
    "* Cell wall thickness\n",
    "* Node length\n",
    "* Facesheet thickness"
   ]
  },
  {
   "cell_type": "markdown",
   "metadata": {},
   "source": [
    "## Step 1 - define all parameters"
   ]
  },
  {
   "cell_type": "code",
   "execution_count": 1,
   "metadata": {},
   "outputs": [],
   "source": [
    "## Main parameters\n",
    "cell_size = 0.006\n",
    "cell_wall_thickness = 0.002\n",
    "node_length = 0.004\n",
    "facesheet_thickness = 0.005"
   ]
  },
  {
   "cell_type": "code",
   "execution_count": 2,
   "metadata": {},
   "outputs": [],
   "source": [
    "# Fixed constants\n",
    "structure_length = 0.1\n",
    "structure_breadth = 0.1"
   ]
  },
  {
   "cell_type": "code",
   "execution_count": 3,
   "metadata": {},
   "outputs": [
    {
     "name": "stdout",
     "output_type": "stream",
     "text": [
      "L =  0.0034641016151377548\n",
      "offset_x =  0.008\n",
      "offset_y =  0.0069282032302755096\n",
      "Nx =  13\n",
      "Ny =  15\n"
     ]
    }
   ],
   "source": [
    "# Import libraries\n",
    "import numpy as np\n",
    "import matplotlib.pyplot as plt\n",
    "\n",
    "# Additional calculation \n",
    "L = cell_size/ np.sqrt(3)\n",
    "offset_x = cell_size + cell_wall_thickness\n",
    "offset_y = 1.5*L + cell_wall_thickness*(np.sin(np.pi/3))\n",
    "Nx = int(structure_length / offset_x) + 1\n",
    "Ny = int(structure_breadth / offset_y) + 1\n",
    "print(\"L = \", L)\n",
    "print(\"offset_x = \", offset_x)\n",
    "print(\"offset_y = \", offset_y)\n",
    "print(\"Nx = \", Nx)\n",
    "print(\"Ny = \", Ny)"
   ]
  },
  {
   "cell_type": "markdown",
   "metadata": {},
   "source": [
    "# Step 2 - launch MAPDL and create geometry"
   ]
  },
  {
   "cell_type": "code",
   "execution_count": 4,
   "metadata": {},
   "outputs": [
    {
     "name": "stdout",
     "output_type": "stream",
     "text": [
      "PyMAPDL is taking longer than expected to connect to an MAPDL session.\n",
      "Checking if there are any available licenses...\n",
      "Product:             Ansys Mechanical Enterprise\n",
      "MAPDL Version:       23.1\n",
      "ansys.mapdl Version: 0.64.0\n",
      "\n"
     ]
    }
   ],
   "source": [
    "from ansys.mapdl.core import launch_mapdl\n",
    "\n",
    "# start mapdl\n",
    "mapdl = launch_mapdl()\n",
    "print(mapdl)"
   ]
  },
  {
   "cell_type": "code",
   "execution_count": 5,
   "metadata": {},
   "outputs": [
    {
     "data": {
      "application/vnd.jupyter.widget-view+json": {
       "model_id": "0dc343f9b55b4e2f8c02cb3e5f4f02c8",
       "version_major": 2,
       "version_minor": 0
      },
      "text/plain": [
       "ViewInteractiveWidget(height=768, layout=Layout(height='auto', width='100%'), width=1024)"
      ]
     },
     "metadata": {},
     "output_type": "display_data"
    }
   ],
   "source": [
    "## reset mapdl\n",
    "mapdl.clear()\n",
    "\n",
    "## enter the preprocessor\n",
    "mapdl.prep7()\n",
    "\n",
    "mapdl.units('SI')      # SI unit system\n",
    "\n",
    "## Create geometry\n",
    "mapdl.block(0, structure_length, 0, structure_breadth, 0, node_length)\n",
    "\n",
    "plate = mapdl.cm(\"PLATE\", \"VOLU\")\n",
    "\n",
    "mapdl.clocal( 11, 0, structure_length/2, structure_breadth/2, 0)                                         ## Making local coordinate system\n",
    "mapdl.wpcsys('', 11,)                                                                                    ## Shift working plane\n",
    "\n",
    "initial_distance = node_length + 0.02                                              ## 20 mm from center of front facesheet of sandwich panel\n",
    "\n",
    "# 0.44 Remington Magnum Bullet\n",
    "mapdl.cone(0.00545, 0.005486, initial_distance , initial_distance + 0.00825)\n",
    "mapdl.cone(0.00569, 0.005805, initial_distance + 0.00825 , initial_distance + 0.04089 )\n",
    "mapdl.vadd(1,2)\n",
    "bullet = mapdl.cm(\"BULLET\",\"VOLU\")\n",
    "\n",
    "mapdl.csdele(11)                                                                   ## Delete local coordinate system\n",
    "# mapdl.input('bullet9.anf')\n",
    "\n",
    "mapdl.vplot('all')"
   ]
  },
  {
   "cell_type": "markdown",
   "metadata": {},
   "source": [
    "## Step 3 - define material properties"
   ]
  },
  {
   "cell_type": "code",
   "execution_count": 6,
   "metadata": {},
   "outputs": [
    {
     "data": {
      "text/plain": [
       "1"
      ]
     },
     "execution_count": 6,
     "metadata": {},
     "output_type": "execute_result"
    }
   ],
   "source": [
    "# Define material properties\n",
    "mapdl.mp(\"EX\", 1, 2e5)  # Youngs modulus\n",
    "mapdl.mp(\"PRXY\", 1, 0.3367)  # Poissons ratio\n",
    "\n",
    "mapdl.tb(\"EVISC\",1)\n",
    "\n",
    "## Define element attributes\n",
    "mapdl.et(1, \"SOLID185\") # 3D 8-Node Layered Solid"
   ]
  },
  {
   "cell_type": "code",
   "execution_count": 7,
   "metadata": {},
   "outputs": [
    {
     "data": {
      "text/plain": [
       "*** MAPDL GLOBAL STATUS *** \n",
       "\n",
       " TITLE =                                                                       \n",
       "        24 KEYPOINTS DEFINED     MAX KEYPOINT NUMBER =             48\n",
       "        32 LINES DEFINED         MAX LINE NUMBER =                 64\n",
       "        14 AREAS DEFINED         MAX AREA NUMBER =                 28\n",
       "         3 VOLUMES DEFINED       MAX VOLUME NUMBER =                3\n",
       "         1 ELEM TYPES DEFINED    MAX ELEM TYPE NUMBER =             1\n",
       "         0 ELEMENTS DEFINED      MAX ELEMENT NUMBER =               0\n",
       "         0 NODES DEFINED         MAX NODE NUMBER =                  0\n",
       "\n",
       " WRITE ANSYS DATABASE AS AN ANSYS INPUT FILE: C:/Users/HPRVa/Ballistic_shield_design_optimization/src/ geom.igs                                                                                                                                                                                                   \n",
       "\n",
       " WRITE IGES FILE= C:/Users/HPRVa/Ballistic_shield_design_optimization/src/\n",
       "\n",
       " ATTRIBUTES WILL BE WRITTEN TO C:/Users/HPRVa/Ballistic_shield_design_optimization/src/.\n",
       "\n",
       "  1036 RECORDS WRITTEN TO FILE= C:/Users/HPRVa/Ballistic_shield_design_optimization/src/ geom.iges"
      ]
     },
     "execution_count": 7,
     "metadata": {},
     "output_type": "execute_result"
    }
   ],
   "source": [
    "# Saves the geometry in IGES format\n",
    "mapdl.cdwrite(\"ALL\",fname=\"C:/Users/HPRVa/Ballistic_shield_design_optimization/src/ geom\",ext='igs')"
   ]
  },
  {
   "cell_type": "code",
   "execution_count": 8,
   "metadata": {},
   "outputs": [],
   "source": [
    "mapdl.exit()"
   ]
  },
  {
   "cell_type": "markdown",
   "metadata": {},
   "source": []
  },
  {
   "cell_type": "code",
   "execution_count": 9,
   "metadata": {},
   "outputs": [
    {
     "name": "stdout",
     "output_type": "stream",
     "text": [
      "Ansys Mechanical [Ansys Mechanical Enterprise]\n",
      "Product Version:231\n",
      "Software build date:Wednesday, November 23, 2022 6:49:22 PM\n"
     ]
    }
   ],
   "source": [
    "import json\n",
    "import os\n",
    "import grpc\n",
    "\n",
    "from ansys.mechanical.core import launch_mechanical\n",
    "\n",
    "mechanical = launch_mechanical(batch=True, cleanup_on_exit=False)\n",
    "print(mechanical)"
   ]
  },
  {
   "cell_type": "code",
   "execution_count": 10,
   "metadata": {},
   "outputs": [],
   "source": [
    "geometry_path = \"C:/Users/HPRVa/Ballistic_shield_design_optimization/src/geom.iges\""
   ]
  },
  {
   "cell_type": "code",
   "execution_count": 12,
   "metadata": {},
   "outputs": [
    {
     "name": "stdout",
     "output_type": "stream",
     "text": [
      "project directory = C:/Users/HPRVa/Ballistic_shield_design_optimization/src\n"
     ]
    },
    {
     "ename": "FileNotFoundError",
     "evalue": "Unable to locate filename C:/Users/HPRVa/Ballistic_shield_design_optimization/src/geom.iges.",
     "output_type": "error",
     "traceback": [
      "\u001b[1;31m---------------------------------------------------------------------------\u001b[0m",
      "\u001b[1;31mFileNotFoundError\u001b[0m                         Traceback (most recent call last)",
      "\u001b[1;32mc:\\Users\\HPRVa\\Ballistic_shield_design_optimization\\src\\ballistic_analysis-v2.ipynb Cell 18\u001b[0m line \u001b[0;36m6\n\u001b[0;32m      <a href='vscode-notebook-cell:/c%3A/Users/HPRVa/Ballistic_shield_design_optimization/src/ballistic_analysis-v2.ipynb#X46sZmlsZQ%3D%3D?line=2'>3</a>\u001b[0m \u001b[39mprint\u001b[39m(\u001b[39mf\u001b[39m\u001b[39m\"\u001b[39m\u001b[39mproject directory = \u001b[39m\u001b[39m{\u001b[39;00mproject_directory\u001b[39m}\u001b[39;00m\u001b[39m\"\u001b[39m)\n\u001b[0;32m      <a href='vscode-notebook-cell:/c%3A/Users/HPRVa/Ballistic_shield_design_optimization/src/ballistic_analysis-v2.ipynb#X46sZmlsZQ%3D%3D?line=4'>5</a>\u001b[0m \u001b[39m# Upload the file to the project directory.\u001b[39;00m\n\u001b[1;32m----> <a href='vscode-notebook-cell:/c%3A/Users/HPRVa/Ballistic_shield_design_optimization/src/ballistic_analysis-v2.ipynb#X46sZmlsZQ%3D%3D?line=5'>6</a>\u001b[0m mechanical\u001b[39m.\u001b[39;49mupload(file_name\u001b[39m=\u001b[39;49mgeometry_path, file_location_destination\u001b[39m=\u001b[39;49mproject_directory)\n\u001b[0;32m      <a href='vscode-notebook-cell:/c%3A/Users/HPRVa/Ballistic_shield_design_optimization/src/ballistic_analysis-v2.ipynb#X46sZmlsZQ%3D%3D?line=7'>8</a>\u001b[0m \u001b[39m# Build the path relative to project directory.\u001b[39;00m\n\u001b[0;32m      <a href='vscode-notebook-cell:/c%3A/Users/HPRVa/Ballistic_shield_design_optimization/src/ballistic_analysis-v2.ipynb#X46sZmlsZQ%3D%3D?line=8'>9</a>\u001b[0m base_name \u001b[39m=\u001b[39m os\u001b[39m.\u001b[39mpath\u001b[39m.\u001b[39mbasename(geometry_path)\n",
      "File \u001b[1;32mc:\\Users\\HPRVa\\Ballistic_shield_design_optimization\\Lib\\site-packages\\ansys\\mechanical\\core\\errors.py:76\u001b[0m, in \u001b[0;36mprotect_grpc.<locals>.wrapper\u001b[1;34m(*args, **kwargs)\u001b[0m\n\u001b[0;32m     74\u001b[0m \u001b[39m# Capture gRPC exceptions\u001b[39;00m\n\u001b[0;32m     75\u001b[0m \u001b[39mtry\u001b[39;00m:\n\u001b[1;32m---> 76\u001b[0m     out \u001b[39m=\u001b[39m func(\u001b[39m*\u001b[39;49margs, \u001b[39m*\u001b[39;49m\u001b[39m*\u001b[39;49mkwargs)\n\u001b[0;32m     77\u001b[0m \u001b[39mexcept\u001b[39;00m (_InactiveRpcError, _MultiThreadedRendezvous) \u001b[39mas\u001b[39;00m error:  \u001b[39m# pragma: no cover\u001b[39;00m\n\u001b[0;32m     78\u001b[0m     \u001b[39m# Can't use isinstance here due to circular imports\u001b[39;00m\n\u001b[0;32m     79\u001b[0m     \u001b[39mtry\u001b[39;00m:\n",
      "File \u001b[1;32mc:\\Users\\HPRVa\\Ballistic_shield_design_optimization\\Lib\\site-packages\\ansys\\mechanical\\core\\mechanical.py:1411\u001b[0m, in \u001b[0;36mMechanical.upload\u001b[1;34m(self, file_name, file_location_destination, chunk_size, progress_bar)\u001b[0m\n\u001b[0;32m   1408\u001b[0m \u001b[39mself\u001b[39m\u001b[39m.\u001b[39mverify_valid_connection()\n\u001b[0;32m   1410\u001b[0m \u001b[39mif\u001b[39;00m \u001b[39mnot\u001b[39;00m os\u001b[39m.\u001b[39mpath\u001b[39m.\u001b[39misfile(file_name):\n\u001b[1;32m-> 1411\u001b[0m     \u001b[39mraise\u001b[39;00m \u001b[39mFileNotFoundError\u001b[39;00m(\u001b[39mf\u001b[39m\u001b[39m\"\u001b[39m\u001b[39mUnable to locate filename \u001b[39m\u001b[39m{\u001b[39;00mfile_name\u001b[39m}\u001b[39;00m\u001b[39m.\u001b[39m\u001b[39m\"\u001b[39m)\n\u001b[0;32m   1413\u001b[0m \u001b[39mself\u001b[39m\u001b[39m.\u001b[39m_log\u001b[39m.\u001b[39mdebug(\u001b[39mf\u001b[39m\u001b[39m\"\u001b[39m\u001b[39mUploading file \u001b[39m\u001b[39m'\u001b[39m\u001b[39m{\u001b[39;00mfile_name\u001b[39m}\u001b[39;00m\u001b[39m'\u001b[39m\u001b[39m to the Mechanical instance.\u001b[39m\u001b[39m\"\u001b[39m)\n\u001b[0;32m   1415\u001b[0m \u001b[39mif\u001b[39;00m file_location_destination \u001b[39mis\u001b[39;00m \u001b[39mNone\u001b[39;00m:\n",
      "\u001b[1;31mFileNotFoundError\u001b[0m: Unable to locate filename C:/Users/HPRVa/Ballistic_shield_design_optimization/src/geom.iges."
     ]
    }
   ],
   "source": [
    "# project_directory = mechanical.project_directory\n",
    "project_directory = \"C:/Users/HPRVa/Ballistic_shield_design_optimization/src\"\n",
    "print(f\"project directory = {project_directory}\")\n",
    "\n",
    "# Upload the file to the project directory.\n",
    "mechanical.upload(file_name=geometry_path, file_location_destination=project_directory)\n",
    "\n",
    "# Build the path relative to project directory.\n",
    "base_name = os.path.basename(geometry_path)\n",
    "combined_path = os.path.join(project_directory, base_name)\n",
    "part_file_path = combined_path.replace(\"\\\\\", \"\\\\\\\\\")\n",
    "mechanical.run_python_script(f\"part_file_path='{part_file_path}'\")\n",
    "\n",
    "# Verify the path\n",
    "result = mechanical.run_python_script(\"part_file_path\")\n",
    "print(f\"part_file_path on server: {result}\")"
   ]
  },
  {
   "cell_type": "code",
   "execution_count": null,
   "metadata": {},
   "outputs": [],
   "source": [
    "output = mechanical.run_python_script(\n",
    "    \"\"\"\n",
    "import json\n",
    "\n",
    "geometry_import_group_11 = Model.GeometryImportGroup\n",
    "geometry_import_19 = geometry_import_group_11.AddGeometryImport()\n",
    "\n",
    "geometry_import_19_format = Ansys.Mechanical.DataModel.Enums.GeometryImportPreference.\\\n",
    "    Format.Automatic\n",
    "geometry_import_19_preferences = Ansys.ACT.Mechanical.Utilities.GeometryImportPreferences()\n",
    "geometry_import_19_preferences.ProcessNamedSelections = True\n",
    "geometry_import_19_preferences.ProcessCoordinateSystems = True\n",
    "\n",
    "geometry_import_19.Import(part_file_path, geometry_import_19_format, geometry_import_19_preferences)\n",
    "\n",
    "# #region Context Menu Action\n",
    "# mesh_15 = Model.Mesh\n",
    "# mesh_15.GenerateMesh()\n",
    "# #endregion\n",
    "\n",
    "# #region Toolbar Action\n",
    "# model_11 = Model\n",
    "# analysis_36 = model_11.AddExplicitDynamicsAnalysis()\n",
    "# #endregion\n",
    "\n",
    "# Model.AddStaticStructuralAnalysis()\n",
    "# STAT_STRUC = Model.Analyses[0]\n",
    "# CS_GRP = Model.CoordinateSystems\n",
    "# ANALYSIS_SETTINGS = STAT_STRUC.Children[0]\n",
    "# SOLN= STAT_STRUC.Solution\n",
    "\n",
    "##### Section 2 Set up the Unit System.\n",
    "\n",
    "ExtAPI.Application.ActiveUnitSystem = MechanicalUnitSystem.StandardMKS\n",
    "ExtAPI.Application.ActiveAngleUnit = AngleUnitType.Radian\n",
    "\n",
    "##### Section 3 Named Selection and Coordinate System.\n",
    "\n",
    "NS1 = Model.NamedSelections.Children[0]\n",
    "NS2 = Model.NamedSelections.Children[1]\n",
    "NS3 = Model.NamedSelections.Children[2]\n",
    "NS4 = Model.NamedSelections.Children[3]\n",
    "GCS = CS_GRP.Children[0]\n",
    "LCS1 = CS_GRP.Children[1]\n",
    "\n",
    "##### Section 4 Define remote point.\n",
    "\n",
    "RMPT_GRP = Model.RemotePoints\n",
    "RMPT_1 = RMPT_GRP.AddRemotePoint()\n",
    "RMPT_1.Location = NS1\n",
    "RMPT_1.XCoordinate=Quantity(\"7 [m]\")\n",
    "RMPT_1.YCoordinate=Quantity(\"0 [m]\")\n",
    "RMPT_1.ZCoordinate=Quantity(\"0 [m]\")\n",
    "\n",
    "#####  Section 5 Define Mesh Settings.\n",
    "\n",
    "MSH = Model.Mesh\n",
    "MSH.ElementSize =Quantity(\"0.5 [m]\")\n",
    "MSH.GenerateMesh()\n",
    "\n",
    "#####  Section 6 Define boundary conditions.\n",
    "\n",
    "##### Insert FIXED Support\n",
    "FIX_SUP = STAT_STRUC.AddFixedSupport()\n",
    "FIX_SUP.Location = NS2\n",
    "\n",
    "##### Insert Frictionless Support\n",
    "FRIC_SUP = STAT_STRUC.AddFrictionlessSupport()\n",
    "FRIC_SUP.Location = NS3\n",
    "\n",
    "#####  Section 7 Define remote force.\n",
    "\n",
    "REM_FRC1 = STAT_STRUC.AddRemoteForce()\n",
    "REM_FRC1.Location = RMPT_1\n",
    "REM_FRC1.DefineBy =LoadDefineBy.Components\n",
    "REM_FRC1.XComponent.Output.DiscreteValues = [Quantity(\"1e10 [N]\")]\n",
    "\n",
    "#####  Section 9 Insert directional deformation.\n",
    "\n",
    "# DIR_DEF = STAT_STRUC.Solution.AddDirectionalDeformation()\n",
    "# DIR_DEF.Location = NS1\n",
    "# DIR_DEF.NormalOrientation =NormalOrientationType.XAxis\n",
    "\n",
    "##### Section 10 Add Total Deformation and force reaction probe\n",
    "\n",
    "TOT_DEF = STAT_STRUC.Solution.AddTotalDeformation()\n",
    "\n",
    "##### Add Force Reaction\n",
    "FRC_REAC_PROBE = STAT_STRUC.Solution.AddForceReaction()\n",
    "FRC_REAC_PROBE.BoundaryConditionSelection = FIX_SUP\n",
    "FRC_REAC_PROBE.ResultSelection =ProbeDisplayFilter.XAxis\n",
    "\n",
    "##### Section 11 Solve and get the results.\n",
    "\n",
    "##### Solve Static Analysis\n",
    "STAT_STRUC.Solution.Solve(True)\n",
    "\n",
    "dir_deformation_details = {\n",
    "\"Minimum\": str(DIR_DEF.Minimum),\n",
    "\"Maximum\": str(DIR_DEF.Maximum),\n",
    "\"Average\": str(DIR_DEF.Average),\n",
    "}\n",
    "\n",
    "json.dumps(dir_deformation_details)\n",
    "\n",
    "'''NOTE : All workflows will not be recorded, as recording is under development.'''\n",
    "\n",
    "#region UI Action\n",
    "with Transaction(True):\n",
    "    body_20.Material = \"0b11100b-3877-44f6-9845-9e3aee687bed\"\n",
    "#endregion\n",
    "\n",
    "\n",
    "#region Details View Action\n",
    "body_29.StiffnessBehavior = StiffnessBehavior.Rigid\n",
    "#endregion\n",
    "\n",
    "#region Context Menu Action\n",
    "initial_conditions_46 = DataModel.GetObjectById(46)\n",
    "initial_condition_56 = initial_conditions_46.InsertVelocity()\n",
    "#endregion\n",
    "\n",
    "#region Details View Action\n",
    "selection = ExtAPI.SelectionManager.CreateSelectionInfo(SelectionTypeEnum.GeometryEntities)\n",
    "selection.Ids = [6970]\n",
    "initial_condition_56.Location = selection\n",
    "#endregion\n",
    "\n",
    "#region Details View Action\n",
    "initial_condition_56.DefineBy = LoadDefineBy.Components\n",
    "#endregion\n",
    "\n",
    "#region Details View Action\n",
    "initial_condition_56.XComponent = Quantity(-400000, \"\")\n",
    "#endregion\n",
    "\n",
    "#region Context Menu Action\n",
    "solution_42 = DataModel.GetObjectById(42)\n",
    "equivalent_plastic_strain_rst58 = solution_42.AddEquivalentPlasticStrainRST()\n",
    "#endregion\n",
    "\n",
    "#region Context Menu Action\n",
    "equivalent_stress_59 = solution_42.AddEquivalentStress()\n",
    "#endregion\n",
    "\n",
    "#region Context Menu Action\n",
    "total_deformation_60 = solution_42.AddTotalDeformation()\n",
    "#endregion\n",
    "\n",
    "#region Details View Action\n",
    "selection = ExtAPI.SelectionManager.CreateSelectionInfo(SelectionTypeEnum.GeometryEntities)\n",
    "selection.Ids = [6912]\n",
    "total_deformation_60.Location = selection\n",
    "#endregion\n",
    "\n",
    "#region Context Menu Action\n",
    "velocity_probe_62 = solution_42.AddVelocityProbe()\n",
    "#endregion\n",
    "\n",
    "#region Details View Action\n",
    "selection = ExtAPI.SelectionManager.CreateSelectionInfo(SelectionTypeEnum.GeometryEntities)\n",
    "selection.Ids = [6970]\n",
    "velocity_probe_62.GeometryLocation = selection\n",
    "#endregion\n",
    "\n",
    "#region Details View Action\n",
    "velocity_probe_62.ResultSelection = ProbeDisplayFilter.XAxis\n",
    "#endregion\n",
    "\n",
    "#region Context Menu Action\n",
    "analysis_41 = DataModel.GetObjectById(41)\n",
    "fixed_support_65 = analysis_41.AddFixedSupport()\n",
    "#endregion\n",
    "\n",
    "#region Details View Action\n",
    "selection = ExtAPI.SelectionManager.CreateSelectionInfo(SelectionTypeEnum.GeometryEntities)\n",
    "selection.Ids = [6907, 6908, 6909, 6906]\n",
    "fixed_support_65.Location = selection\n",
    "#endregion\n",
    "\n",
    "#region Context Menu Action\n",
    "fixed_support_67 = analysis_41.AddFixedSupport()\n",
    "#endregion\n",
    "\n",
    "#region Details View Action\n",
    "selection = ExtAPI.SelectionManager.CreateSelectionInfo(SelectionTypeEnum.GeometryEntities)\n",
    "selection.Ids = [33, 30, 31, 32]\n",
    "fixed_support_67.Location = selection\n",
    "#endregion\n",
    "\n",
    "#region Details View Action\n",
    "mesh_15 = Model.Mesh\n",
    "mesh_15.ElementSize = Quantity(1, \"mm\")\n",
    "#endregion\n",
    "\n",
    "\"\"\"\n",
    ")\n",
    "print(output)"
   ]
  },
  {
   "cell_type": "code",
   "execution_count": 12,
   "metadata": {},
   "outputs": [],
   "source": [
    "mechanical.exit()"
   ]
  }
 ],
 "metadata": {
  "kernelspec": {
   "display_name": "Ballistic_shield_design_optimization",
   "language": "python",
   "name": "python3"
  },
  "language_info": {
   "codemirror_mode": {
    "name": "ipython",
    "version": 3
   },
   "file_extension": ".py",
   "mimetype": "text/x-python",
   "name": "python",
   "nbconvert_exporter": "python",
   "pygments_lexer": "ipython3",
   "version": "3.11.6"
  }
 },
 "nbformat": 4,
 "nbformat_minor": 2
}
