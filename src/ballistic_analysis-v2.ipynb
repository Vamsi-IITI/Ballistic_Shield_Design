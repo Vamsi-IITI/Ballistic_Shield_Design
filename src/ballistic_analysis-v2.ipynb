{
 "cells": [
  {
   "cell_type": "markdown",
   "metadata": {},
   "source": [
    "# Numerical Simulation of Ballistic Performance of Honeycomb Sandwich Panels"
   ]
  },
  {
   "cell_type": "markdown",
   "metadata": {},
   "source": [
    "### Objective:\n",
    "Setup a parametric model in PyMAPDL for a honeycomb sandwich panel. Use it for running a Ballistic impact simulation\n",
    "\n",
    "The learning objectives of this demo are:\n",
    "* Setup and solve a parametric model using PyMAPDL\n",
    "* Interactive plotting of CAD, mesh, and results in Pythonic interface."
   ]
  },
  {
   "cell_type": "markdown",
   "metadata": {},
   "source": [
    "### Model Details\n",
    "\n",
    "#### Model parameters:\n",
    "* Cell size\n",
    "* Cell wall thickness\n",
    "* Node length\n",
    "* Facesheet thickness"
   ]
  },
  {
   "cell_type": "markdown",
   "metadata": {},
   "source": [
    "## Step 1 - define all parameters"
   ]
  },
  {
   "cell_type": "code",
   "execution_count": 25,
   "metadata": {},
   "outputs": [],
   "source": [
    "## Main parameters\n",
    "cell_size = 0.006\n",
    "cell_wall_thickness = 0.002\n",
    "node_length = 0.004\n",
    "facesheet_thickness = 0.005"
   ]
  },
  {
   "cell_type": "code",
   "execution_count": 26,
   "metadata": {},
   "outputs": [],
   "source": [
    "# Fixed constants\n",
    "structure_length = 0.1\n",
    "structure_breadth = 0.1"
   ]
  },
  {
   "cell_type": "code",
   "execution_count": 27,
   "metadata": {},
   "outputs": [
    {
     "name": "stdout",
     "output_type": "stream",
     "text": [
      "L =  0.0034641016151377548\n",
      "offset_x =  0.008\n",
      "offset_y =  0.0069282032302755096\n",
      "Nx =  13\n",
      "Ny =  15\n"
     ]
    }
   ],
   "source": [
    "# Import libraries\n",
    "import numpy as np\n",
    "import matplotlib.pyplot as plt\n",
    "\n",
    "# Additional calculation \n",
    "L = cell_size/ np.sqrt(3)\n",
    "offset_x = cell_size + cell_wall_thickness\n",
    "offset_y = 1.5*L + cell_wall_thickness*(np.sin(np.pi/3))\n",
    "Nx = int(structure_length / offset_x) + 1\n",
    "Ny = int(structure_breadth / offset_y) + 1\n",
    "print(\"L = \", L)\n",
    "print(\"offset_x = \", offset_x)\n",
    "print(\"offset_y = \", offset_y)\n",
    "print(\"Nx = \", Nx)\n",
    "print(\"Ny = \", Ny)"
   ]
  },
  {
   "cell_type": "markdown",
   "metadata": {},
   "source": [
    "# Step 2 - launch MAPDL and create geometry"
   ]
  },
  {
   "cell_type": "code",
   "execution_count": 28,
   "metadata": {},
   "outputs": [
    {
     "name": "stdout",
     "output_type": "stream",
     "text": [
      "Product:             Ansys Mechanical Enterprise\n",
      "MAPDL Version:       23.1\n",
      "ansys.mapdl Version: 0.64.0\n",
      "\n"
     ]
    }
   ],
   "source": [
    "from ansys.mapdl.core import launch_mapdl\n",
    "\n",
    "# start mapdl\n",
    "mapdl = launch_mapdl()\n",
    "print(mapdl)"
   ]
  },
  {
   "cell_type": "code",
   "execution_count": 29,
   "metadata": {},
   "outputs": [
    {
     "data": {
      "application/vnd.jupyter.widget-view+json": {
       "model_id": "d2ac3d6d70f94081bc7a0106216a1362",
       "version_major": 2,
       "version_minor": 0
      },
      "text/plain": [
       "ViewInteractiveWidget(height=768, layout=Layout(height='auto', width='100%'), width=1024)"
      ]
     },
     "metadata": {},
     "output_type": "display_data"
    }
   ],
   "source": [
    "## reset mapdl\n",
    "mapdl.clear()\n",
    "\n",
    "## enter the preprocessor\n",
    "mapdl.prep7()\n",
    "\n",
    "mapdl.units('MKS')      # MKS unit system\n",
    "\n",
    "## Create geometry\n",
    "mapdl.block(0, structure_length, 0, structure_breadth, 0, node_length)\n",
    "\n",
    "plate = mapdl.cm(\"PLATE\", \"VOLU\")\n",
    "\n",
    "mapdl.clocal( 11, 0, structure_length/2, structure_breadth/2, 0)                                         ## Making local coordinate system\n",
    "mapdl.wpcsys('', 11,)                                                                                    ## Shift working plane\n",
    "\n",
    "initial_distance = node_length + 0.02                                              ## 20 mm from center of front facesheet of sandwich panel\n",
    "\n",
    "# 0.44 Remington Magnum Bullet\n",
    "# mapdl.cone(0.0053, 0.005805, initial_distance , initial_distance + 0.00825)\n",
    "mapdl.cylind(0.005805,0, initial_distance + 0.00825 , initial_distance + 0.04089 )\n",
    "# mapdl.vadd(1,2)\n",
    "bullet = mapdl.cm(\"BULLET\",\"VOLU\")\n",
    "\n",
    "mapdl.csdele(11)                                                                   ## Delete local coordinate system\n",
    "# mapdl.input('bullet9.anf')\n",
    "\n",
    "mapdl.vplot('all')"
   ]
  },
  {
   "cell_type": "markdown",
   "metadata": {},
   "source": [
    "## Step 3 - define material properties"
   ]
  },
  {
   "cell_type": "code",
   "execution_count": 30,
   "metadata": {},
   "outputs": [
    {
     "data": {
      "text/plain": [
       "1"
      ]
     },
     "execution_count": 30,
     "metadata": {},
     "output_type": "execute_result"
    }
   ],
   "source": [
    "# Define material properties\n",
    "mapdl.mp(\"EX\", 1, 2e5)  # Youngs modulus\n",
    "mapdl.mp(\"PRXY\", 1, 0.3367)  # Poissons ratio\n",
    "\n",
    "mapdl.tb(\"EVISC\",1)\n",
    "\n",
    "## Define element attributes\n",
    "mapdl.et(1, \"SOLID185\") # 3D 8-Node Layered Solid"
   ]
  },
  {
   "cell_type": "code",
   "execution_count": 31,
   "metadata": {},
   "outputs": [
    {
     "data": {
      "text/plain": [
       "*** MAPDL GLOBAL STATUS *** \n",
       "\n",
       " TITLE =                                                                       \n",
       "        16 KEYPOINTS DEFINED     MAX KEYPOINT NUMBER =             32\n",
       "        22 LINES DEFINED         MAX LINE NUMBER =                 44\n",
       "        10 AREAS DEFINED         MAX AREA NUMBER =                 20\n",
       "         2 VOLUMES DEFINED       MAX VOLUME NUMBER =                2\n",
       "         1 ELEM TYPES DEFINED    MAX ELEM TYPE NUMBER =             1\n",
       "         0 ELEMENTS DEFINED      MAX ELEMENT NUMBER =               0\n",
       "         0 NODES DEFINED         MAX NODE NUMBER =                  0\n",
       "\n",
       " WRITE ANSYS DATABASE AS AN ANSYS INPUT FILE: C:/Users/HPRVa/Ballistic_shield_design_optimization/src/ geom.igs                                                                                                                                                                                                   \n",
       "\n",
       " WRITE IGES FILE= C:/Users/HPRVa/Ballistic_shield_design_optimization/src/\n",
       "\n",
       " ATTRIBUTES WILL BE WRITTEN TO C:/Users/HPRVa/Ballistic_shield_design_optimization/src/.\n",
       "\n",
       "   737 RECORDS WRITTEN TO FILE= C:/Users/HPRVa/Ballistic_shield_design_optimization/src/ geom.iges"
      ]
     },
     "execution_count": 31,
     "metadata": {},
     "output_type": "execute_result"
    }
   ],
   "source": [
    "# Saves the geometry in IGES format\n",
    "mapdl.cdwrite(\"ALL\",fname=\"C:/Users/HPRVa/Ballistic_shield_design_optimization/src/ geom\",ext='igs')"
   ]
  },
  {
   "cell_type": "code",
   "execution_count": 32,
   "metadata": {},
   "outputs": [],
   "source": [
    "mapdl.exit()"
   ]
  },
  {
   "cell_type": "markdown",
   "metadata": {},
   "source": [
    "## Launch Ansys Mechanical "
   ]
  },
  {
   "cell_type": "code",
   "execution_count": 33,
   "metadata": {},
   "outputs": [
    {
     "name": "stdout",
     "output_type": "stream",
     "text": [
      "Ansys Mechanical [Ansys Mechanical Enterprise]\n",
      "Product Version:231\n",
      "Software build date:Wednesday, November 23, 2022 6:49:22 PM\n"
     ]
    }
   ],
   "source": [
    "import json\n",
    "import os\n",
    "import grpc\n",
    "\n",
    "from ansys.mechanical.core import launch_mechanical\n",
    "\n",
    "mechanical = launch_mechanical(batch=True, cleanup_on_exit=False)\n",
    "print(mechanical)"
   ]
  },
  {
   "cell_type": "code",
   "execution_count": 34,
   "metadata": {},
   "outputs": [],
   "source": [
    "# geometry_path = \"geom.iges\""
   ]
  },
  {
   "cell_type": "code",
   "execution_count": 35,
   "metadata": {},
   "outputs": [],
   "source": [
    "# # project_directory = mechanical.project_directory\n",
    "# project_directory = \"C:/Users/HPRVa/Ballistic_shield_design_optimization/src\"\n",
    "# print(f\"project directory = {project_directory}\")\n",
    "\n",
    "# # Upload the file to the project directory.\n",
    "# # mechanical.upload(file_name=geometry_path, file_location_destination=project_directory)\n",
    "\n",
    "# # Build the path relative to project directory.\n",
    "# base_name = os.path.basename(geometry_path)\n",
    "# combined_path = os.path.join(project_directory, base_name)\n",
    "# part_file_path = combined_path.replace(\"\\\\\", \"\\\\\\\\\")\n",
    "# mechanical.run_python_script(f\"part_file_path='{part_file_path}'\")\n",
    "\n",
    "# # Verify the path\n",
    "# result = mechanical.run_python_script(\"part_file_path\")\n",
    "# print(f\"part_file_path on server: {result}\")"
   ]
  },
  {
   "cell_type": "code",
   "execution_count": 36,
   "metadata": {},
   "outputs": [],
   "source": [
    "output = mechanical.run_python_script(\n",
    "    r\"\"\"\n",
    "import json\n",
    "\n",
    "#region Context Menu Action\n",
    "geometry_import_group_11 = Model.GeometryImportGroup\n",
    "geometry_import_13 = geometry_import_group_11.AddGeometryImport()\n",
    "\n",
    "geometry_import_13_format = Ansys.Mechanical.DataModel.Enums.GeometryImportPreference.\\\n",
    "    Format.Automatic\n",
    "geometry_import_13_preferences = Ansys.ACT.Mechanical.Utilities.GeometryImportPreferences()\n",
    "geometry_import_13_preferences.ProcessNamedSelections = True\n",
    "geometry_import_13_preferences.ProcessCoordinateSystems = True\n",
    "# geometry_import_13 = DataModel.GetObjectById(13)\n",
    "geometry_import_13.Import(r\"C:\\Users\\HPRVa\\Ballistic_shield_design_optimization\\src\\ geom.iges\") # Primary Source!\n",
    "#endregion\n",
    "#region Context Menu Action\n",
    "ExtAPI.Application.ActiveUnitSystem = MechanicalUnitSystem.StandardMKS\n",
    "#endregion\n",
    "\n",
    "\n",
    "#region Details View Action\n",
    "body_25 = DataModel.GetObjectById(25)\n",
    "body_25.StiffnessBehavior = StiffnessBehavior.Rigid\n",
    "#endregion\n",
    "\n",
    "#region Toolbar Action\n",
    "model_11 = Model\n",
    "analysis_29 = model_11.AddExplicitDynamicsAnalysis()\n",
    "#endregion\n",
    "\n",
    "#region Context Menu Action\n",
    "initial_conditions_34 = DataModel.GetObjectById(34)\n",
    "initial_condition_37 = initial_conditions_34.InsertVelocity()\n",
    "\n",
    "selection = ExtAPI.SelectionManager.CreateSelectionInfo(SelectionTypeEnum.GeometryEntities)\n",
    "selection.Ids = [55]\n",
    "initial_condition_37.Location = selection\n",
    "#endregion\n",
    "\n",
    "#region Details View Action\n",
    "initial_condition_37.DefineBy = LoadDefineBy.Components\n",
    "#endregion\n",
    "\n",
    "#region Details View Action\n",
    "initial_condition_37.ZComponent = Quantity(-400, \"m/s\")\n",
    "#endregion\n",
    "\n",
    "solution_30 = analysis_29.Solution\n",
    "\n",
    "#region Context Menu Action\n",
    "total_deformation_41 = solution_30.AddTotalDeformation()\n",
    "\n",
    "selection = ExtAPI.SelectionManager.CreateSelectionInfo(SelectionTypeEnum.GeometryEntities)\n",
    "selection.Ids = [32]\n",
    "total_deformation_41.Location = selection\n",
    "#endregion\n",
    "\n",
    "#region Context Menu Action\n",
    "velocity_probe_43 = solution_30.AddVelocityProbe()\n",
    "#endregion\n",
    "\n",
    "#region Details View Action\n",
    "selection = ExtAPI.SelectionManager.CreateSelectionInfo(SelectionTypeEnum.GeometryEntities)\n",
    "selection.Ids = [55]\n",
    "velocity_probe_43.GeometryLocation = selection\n",
    "#endregion\n",
    "\n",
    "#region Details View Action\n",
    "velocity_probe_43.ResultSelection = ProbeDisplayFilter.ZAxis\n",
    "#endregion\n",
    "\n",
    "#region Context Menu Action\n",
    "energy_probe_45 = solution_30.AddEnergyProbe()\n",
    "#endregion\n",
    "\n",
    "#region Details View Action\n",
    "selection = ExtAPI.SelectionManager.CreateSelectionInfo(SelectionTypeEnum.GeometryEntities)\n",
    "selection.Ids = [55]\n",
    "energy_probe_45.GeometryLocation = selection\n",
    "#endregion\n",
    "\n",
    "#region Details View Action\n",
    "mesh_15 = Model.Mesh\n",
    "mesh_15.PhysicsPreference = MeshPhysicsPreferenceType.Explicit\n",
    "#endregion\n",
    "\n",
    "#region Details View Action\n",
    "mesh_15.ElementSize = Quantity(0.001, \"m\")\n",
    "#endregion\n",
    "\n",
    "#region Context Menu Action\n",
    "mesh_15.GenerateMesh()\n",
    "#endregion\n",
    "\n",
    "# #region UI Action\n",
    "# with Transaction(True):\n",
    "#     body_22 = DataModel.GetObjectById(22)\n",
    "#     body_22.Material = \"cc89e716-9563-431b-98d0-b698ebff6d55\"\n",
    "# #endregion\n",
    "\n",
    "# #region UI Action\n",
    "# with Transaction(True):\n",
    "#     body_25 = DataModel.GetObjectById(25)\n",
    "#     body_25.Material = \"ce7f3c8f-cb53-4f3e-9517-ac8ade5cd762\"\n",
    "# #endregion\n",
    "\n",
    "# analysis_29.ErosionOnMaterialFailureType=True\n",
    "\n",
    "# analysis_29.SetStepEndTime(1,Quantity(1e-04, \"s\"))\n",
    "# analysis_29.StepsEndTime\n",
    "\n",
    "# Solve and get the results.\n",
    "\n",
    "# Solve Explicit Dynamics Analysis\n",
    "analysis_29.Solution.Solve(True)\n",
    "\n",
    " \"\"\"\n",
    ")\n",
    "print(output)"
   ]
  },
  {
   "cell_type": "code",
   "execution_count": 24,
   "metadata": {},
   "outputs": [],
   "source": [
    "mechanical.exit()"
   ]
  }
 ],
 "metadata": {
  "kernelspec": {
   "display_name": "Ballistic_shield_design_optimization",
   "language": "python",
   "name": "python3"
  },
  "language_info": {
   "codemirror_mode": {
    "name": "ipython",
    "version": 3
   },
   "file_extension": ".py",
   "mimetype": "text/x-python",
   "name": "python",
   "nbconvert_exporter": "python",
   "pygments_lexer": "ipython3",
   "version": "3.11.6"
  }
 },
 "nbformat": 4,
 "nbformat_minor": 2
}
