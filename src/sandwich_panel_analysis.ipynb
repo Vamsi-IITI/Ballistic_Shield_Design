{
 "cells": [
  {
   "cell_type": "markdown",
   "metadata": {},
   "source": [
    "# Numerical Simulation of Ballistic Performance of Honeycomb Sandwich Panels"
   ]
  },
  {
   "cell_type": "markdown",
   "metadata": {},
   "source": [
    "### Objective:\n",
    "Setup a parametric model in PyMAPDL for a honeycomb sandwich panel. Use it for running a Ballistic impact simulation\n",
    "\n",
    "The learning objectives of this demo are:\n",
    "* Setup and solve a parametric model using PyMAPDL\n",
    "* Interactive plotting of CAD, mesh, and results in Pythonic interface."
   ]
  },
  {
   "cell_type": "markdown",
   "metadata": {},
   "source": [
    "### Model Details\n",
    "\n",
    "#### Model parameters:\n",
    "* Cell size\n",
    "* Cell wall thickness\n",
    "* Node length\n",
    "* Facesheet thickness"
   ]
  },
  {
   "cell_type": "markdown",
   "metadata": {},
   "source": [
    "## Step 1 - define all parameters"
   ]
  },
  {
   "cell_type": "code",
   "execution_count": 1,
   "metadata": {},
   "outputs": [],
   "source": [
    "## Main parameters\n",
    "cell_size = 0.006\n",
    "cell_wall_thickness = 0.002\n",
    "node_length = 0.004\n",
    "facesheet_thickness = 0.005"
   ]
  },
  {
   "cell_type": "code",
   "execution_count": 2,
   "metadata": {},
   "outputs": [],
   "source": [
    "# Fixed constants\n",
    "structure_length = 0.1\n",
    "structure_breadth = 0.1"
   ]
  },
  {
   "cell_type": "code",
   "execution_count": 3,
   "metadata": {},
   "outputs": [
    {
     "name": "stdout",
     "output_type": "stream",
     "text": [
      "L =  0.0034641016151377548\n",
      "offset_x =  0.008\n",
      "offset_y =  0.0069282032302755096\n",
      "Nx =  13\n",
      "Ny =  15\n"
     ]
    }
   ],
   "source": [
    "# Import libraries\n",
    "import numpy as np\n",
    "import matplotlib.pyplot as plt\n",
    "\n",
    "# Additional calculation \n",
    "L = cell_size/ np.sqrt(3)\n",
    "offset_x = cell_size + cell_wall_thickness\n",
    "offset_y = 1.5*L + cell_wall_thickness*(np.sin(np.pi/3))\n",
    "Nx = int(structure_length / offset_x) + 1\n",
    "Ny = int(structure_breadth / offset_y) + 1\n",
    "print(\"L = \", L)\n",
    "print(\"offset_x = \", offset_x)\n",
    "print(\"offset_y = \", offset_y)\n",
    "print(\"Nx = \", Nx)\n",
    "print(\"Ny = \", Ny)"
   ]
  },
  {
   "cell_type": "markdown",
   "metadata": {},
   "source": [
    "# Step 2 - launch MAPDL and create geometry"
   ]
  },
  {
   "cell_type": "code",
   "execution_count": 4,
   "metadata": {},
   "outputs": [
    {
     "ename": "LicenseServerConnectionError",
     "evalue": "2023/10/23 15:03:15    DENIED              ansys                           23.1 (2022.1114)             1/0/0/0                 1/1/1/1   12324:FEAT_ANSYS:HPRVa@Vamsi:winx64                        7436:10.250.8.137   \n\t\tRequest name ansys does not exist in the licensing pool.\n\t\tThe desired vendor daemon is down.\n\t\t Check the lmgrd log file, or try lmreread.\n\t\tFeature:       ansys\n\t\tVendor:Host:   localhost\n\t\tLicense path:  1055@localhost;\n\t\tFlexNet Licensing error:-97,121\n\n2023/10/23 15:03:15    INFO                Unable to connect to FLEXlm path 1055@localhost; adding to \"Unavailable FLEXlm Servers\" cache.\n2023/10/23 15:03:15    DENIED              mech_2                          23.1 (2022.1114)             1/0/0/0                 1/1/1/1   12324:FEAT_ANSYS:HPRVa@Vamsi:winx64                        7436:10.250.8.137   \n\t\tRequest name mech_2 does not exist in the licensing pool.\n\t\tThe desired vendor daemon is down.\n\t\t Check the lmgrd log file, or try lmreread.\n\t\tFeature:       mech_2\n\t\tVendor:Host:   localhost\n\t\tLicense path:  1055@localhost;\n\t\tFlexNet Licensing error:-97,121",
     "output_type": "error",
     "traceback": [
      "\u001b[1;31m---------------------------------------------------------------------------\u001b[0m",
      "\u001b[1;31mMapdlConnectionError\u001b[0m                      Traceback (most recent call last)",
      "File \u001b[1;32mc:\\Users\\HPRVa\\Ballistic_shield_design_optimization\\Lib\\site-packages\\ansys\\mapdl\\core\\launcher.py:1851\u001b[0m, in \u001b[0;36mlaunch_mapdl\u001b[1;34m(exec_file, run_location, jobname, nproc, ram, mode, override, loglevel, additional_switches, start_timeout, port, cleanup_on_exit, start_instance, ip, clear_on_connect, log_apdl, remove_temp_files, remove_temp_dir_on_exit, verbose_mapdl, license_server_check, license_type, print_com, add_env_vars, replace_env_vars, version, **kwargs)\u001b[0m\n\u001b[0;32m   1843\u001b[0m port, actual_run_location, process \u001b[39m=\u001b[39m launch_grpc(\n\u001b[0;32m   1844\u001b[0m     port\u001b[39m=\u001b[39mport,\n\u001b[0;32m   1845\u001b[0m     ip\u001b[39m=\u001b[39mip,\n\u001b[1;32m   (...)\u001b[0m\n\u001b[0;32m   1849\u001b[0m     \u001b[39m*\u001b[39m\u001b[39m*\u001b[39mstart_parm,\n\u001b[0;32m   1850\u001b[0m )\n\u001b[1;32m-> 1851\u001b[0m mapdl \u001b[39m=\u001b[39m MapdlGrpc(\n\u001b[0;32m   1852\u001b[0m     ip\u001b[39m=\u001b[39;49mip,\n\u001b[0;32m   1853\u001b[0m     port\u001b[39m=\u001b[39;49mport,\n\u001b[0;32m   1854\u001b[0m     cleanup_on_exit\u001b[39m=\u001b[39;49mcleanup_on_exit,\n\u001b[0;32m   1855\u001b[0m     loglevel\u001b[39m=\u001b[39;49mloglevel,\n\u001b[0;32m   1856\u001b[0m     set_no_abort\u001b[39m=\u001b[39;49mset_no_abort,\n\u001b[0;32m   1857\u001b[0m     remove_temp_dir_on_exit\u001b[39m=\u001b[39;49mremove_temp_dir_on_exit,\n\u001b[0;32m   1858\u001b[0m     log_apdl\u001b[39m=\u001b[39;49mlog_apdl,\n\u001b[0;32m   1859\u001b[0m     process\u001b[39m=\u001b[39;49mprocess,\n\u001b[0;32m   1860\u001b[0m     \u001b[39m*\u001b[39;49m\u001b[39m*\u001b[39;49mstart_parm,\n\u001b[0;32m   1861\u001b[0m )\n\u001b[0;32m   1862\u001b[0m \u001b[39mif\u001b[39;00m run_location \u001b[39mis\u001b[39;00m \u001b[39mNone\u001b[39;00m:\n",
      "File \u001b[1;32mc:\\Users\\HPRVa\\Ballistic_shield_design_optimization\\Lib\\site-packages\\ansys\\mapdl\\core\\mapdl_grpc.py:386\u001b[0m, in \u001b[0;36mMapdlGrpc.__init__\u001b[1;34m(self, ip, port, timeout, loglevel, log_file, cleanup_on_exit, log_apdl, set_no_abort, remove_temp_files, remove_temp_dir_on_exit, print_com, channel, remote_instance, **start_parm)\u001b[0m\n\u001b[0;32m    385\u001b[0m     \u001b[39mself\u001b[39m\u001b[39m.\u001b[39m_post_mortem_checks()\n\u001b[1;32m--> 386\u001b[0m     \u001b[39mraise\u001b[39;00m err  \u001b[39m# Raise original error if we couldn't catch it in post-mortem analysis\u001b[39;00m\n\u001b[0;32m    387\u001b[0m \u001b[39melse\u001b[39;00m:\n",
      "File \u001b[1;32mc:\\Users\\HPRVa\\Ballistic_shield_design_optimization\\Lib\\site-packages\\ansys\\mapdl\\core\\mapdl_grpc.py:383\u001b[0m, in \u001b[0;36mMapdlGrpc.__init__\u001b[1;34m(self, ip, port, timeout, loglevel, log_file, cleanup_on_exit, log_apdl, set_no_abort, remove_temp_files, remove_temp_dir_on_exit, print_com, channel, remote_instance, **start_parm)\u001b[0m\n\u001b[0;32m    382\u001b[0m \u001b[39mtry\u001b[39;00m:\n\u001b[1;32m--> 383\u001b[0m     \u001b[39mself\u001b[39;49m\u001b[39m.\u001b[39;49m_multi_connect(timeout\u001b[39m=\u001b[39;49mtimeout, set_no_abort\u001b[39m=\u001b[39;49mset_no_abort)\n\u001b[0;32m    384\u001b[0m \u001b[39mexcept\u001b[39;00m MapdlConnectionError \u001b[39mas\u001b[39;00m err:\n",
      "File \u001b[1;32mc:\\Users\\HPRVa\\Ballistic_shield_design_optimization\\Lib\\site-packages\\ansys\\mapdl\\core\\mapdl_grpc.py:454\u001b[0m, in \u001b[0;36mMapdlGrpc._multi_connect\u001b[1;34m(self, n_attempts, timeout, set_no_abort)\u001b[0m\n\u001b[0;32m    453\u001b[0m \u001b[39mif\u001b[39;00m \u001b[39mnot\u001b[39;00m connected:\n\u001b[1;32m--> 454\u001b[0m     \u001b[39mraise\u001b[39;00m MapdlConnectionError(\n\u001b[0;32m    455\u001b[0m         \u001b[39mf\u001b[39m\u001b[39m\"\u001b[39m\u001b[39mUnable to connect to MAPDL gRPC instance at \u001b[39m\u001b[39m{\u001b[39;00m\u001b[39mself\u001b[39m\u001b[39m.\u001b[39m_channel_str\u001b[39m}\u001b[39;00m\u001b[39m.\u001b[39m\u001b[39m\"\u001b[39m\n\u001b[0;32m    456\u001b[0m     )\n\u001b[0;32m    457\u001b[0m \u001b[39melse\u001b[39;00m:\n",
      "\u001b[1;31mMapdlConnectionError\u001b[0m: Unable to connect to MAPDL gRPC instance at 127.0.0.1:50052.",
      "\nDuring handling of the above exception, another exception occurred:\n",
      "\u001b[1;31mLicenseServerConnectionError\u001b[0m              Traceback (most recent call last)",
      "\u001b[1;32mc:\\Users\\HPRVa\\Ballistic_shield_design_optimization\\src\\sandwich_panel_analysis.ipynb Cell 9\u001b[0m line \u001b[0;36m4\n\u001b[0;32m      <a href='vscode-notebook-cell:/c%3A/Users/HPRVa/Ballistic_shield_design_optimization/src/sandwich_panel_analysis.ipynb#X11sZmlsZQ%3D%3D?line=0'>1</a>\u001b[0m \u001b[39mfrom\u001b[39;00m \u001b[39mansys\u001b[39;00m\u001b[39m.\u001b[39;00m\u001b[39mmapdl\u001b[39;00m\u001b[39m.\u001b[39;00m\u001b[39mcore\u001b[39;00m \u001b[39mimport\u001b[39;00m launch_mapdl\n\u001b[0;32m      <a href='vscode-notebook-cell:/c%3A/Users/HPRVa/Ballistic_shield_design_optimization/src/sandwich_panel_analysis.ipynb#X11sZmlsZQ%3D%3D?line=2'>3</a>\u001b[0m \u001b[39m# start mapdl\u001b[39;00m\n\u001b[1;32m----> <a href='vscode-notebook-cell:/c%3A/Users/HPRVa/Ballistic_shield_design_optimization/src/sandwich_panel_analysis.ipynb#X11sZmlsZQ%3D%3D?line=3'>4</a>\u001b[0m mapdl \u001b[39m=\u001b[39m launch_mapdl()\n\u001b[0;32m      <a href='vscode-notebook-cell:/c%3A/Users/HPRVa/Ballistic_shield_design_optimization/src/sandwich_panel_analysis.ipynb#X11sZmlsZQ%3D%3D?line=4'>5</a>\u001b[0m \u001b[39mprint\u001b[39m(mapdl)\n",
      "File \u001b[1;32mc:\\Users\\HPRVa\\Ballistic_shield_design_optimization\\Lib\\site-packages\\ansys\\mapdl\\core\\launcher.py:1870\u001b[0m, in \u001b[0;36mlaunch_mapdl\u001b[1;34m(exec_file, run_location, jobname, nproc, ram, mode, override, loglevel, additional_switches, start_timeout, port, cleanup_on_exit, start_instance, ip, clear_on_connect, log_apdl, remove_temp_files, remove_temp_dir_on_exit, verbose_mapdl, license_server_check, license_type, print_com, add_env_vars, replace_env_vars, version, **kwargs)\u001b[0m\n\u001b[0;32m   1868\u001b[0m     \u001b[39mif\u001b[39;00m license_server_check:\n\u001b[0;32m   1869\u001b[0m         LOG\u001b[39m.\u001b[39mdebug(\u001b[39m\"\u001b[39m\u001b[39mChecking license server.\u001b[39m\u001b[39m\"\u001b[39m)\n\u001b[1;32m-> 1870\u001b[0m         lic_check\u001b[39m.\u001b[39;49mcheck()\n\u001b[0;32m   1872\u001b[0m     \u001b[39mraise\u001b[39;00m exception\n\u001b[0;32m   1874\u001b[0m \u001b[39m# Stopping license checker\u001b[39;00m\n",
      "File \u001b[1;32mc:\\Users\\HPRVa\\Ballistic_shield_design_optimization\\Lib\\site-packages\\ansys\\mapdl\\core\\licensing.py:160\u001b[0m, in \u001b[0;36mLicenseChecker.check\u001b[1;34m(self)\u001b[0m\n\u001b[0;32m    158\u001b[0m     \u001b[39mreturn\u001b[39;00m \u001b[39mTrue\u001b[39;00m\n\u001b[0;32m    159\u001b[0m \u001b[39melif\u001b[39;00m \u001b[39mself\u001b[39m\u001b[39m.\u001b[39m_license_file_success \u001b[39mis\u001b[39;00m \u001b[39mFalse\u001b[39;00m:\n\u001b[1;32m--> 160\u001b[0m     \u001b[39mraise\u001b[39;00m LicenseServerConnectionError(\u001b[39m\"\u001b[39m\u001b[39m\\n\u001b[39;00m\u001b[39m\"\u001b[39m\u001b[39m.\u001b[39mjoin(\u001b[39mself\u001b[39m\u001b[39m.\u001b[39m_license_file_msg))\n\u001b[0;32m    162\u001b[0m \u001b[39mif\u001b[39;00m \u001b[39mself\u001b[39m\u001b[39m.\u001b[39m_license_checkout_success:\n\u001b[0;32m    163\u001b[0m     \u001b[39mreturn\u001b[39;00m \u001b[39mTrue\u001b[39;00m\n",
      "\u001b[1;31mLicenseServerConnectionError\u001b[0m: 2023/10/23 15:03:15    DENIED              ansys                           23.1 (2022.1114)             1/0/0/0                 1/1/1/1   12324:FEAT_ANSYS:HPRVa@Vamsi:winx64                        7436:10.250.8.137   \n\t\tRequest name ansys does not exist in the licensing pool.\n\t\tThe desired vendor daemon is down.\n\t\t Check the lmgrd log file, or try lmreread.\n\t\tFeature:       ansys\n\t\tVendor:Host:   localhost\n\t\tLicense path:  1055@localhost;\n\t\tFlexNet Licensing error:-97,121\n\n2023/10/23 15:03:15    INFO                Unable to connect to FLEXlm path 1055@localhost; adding to \"Unavailable FLEXlm Servers\" cache.\n2023/10/23 15:03:15    DENIED              mech_2                          23.1 (2022.1114)             1/0/0/0                 1/1/1/1   12324:FEAT_ANSYS:HPRVa@Vamsi:winx64                        7436:10.250.8.137   \n\t\tRequest name mech_2 does not exist in the licensing pool.\n\t\tThe desired vendor daemon is down.\n\t\t Check the lmgrd log file, or try lmreread.\n\t\tFeature:       mech_2\n\t\tVendor:Host:   localhost\n\t\tLicense path:  1055@localhost;\n\t\tFlexNet Licensing error:-97,121"
     ]
    }
   ],
   "source": [
    "from ansys.mapdl.core import launch_mapdl\n",
    "\n",
    "# start mapdl\n",
    "mapdl = launch_mapdl()\n",
    "print(mapdl)"
   ]
  },
  {
   "cell_type": "code",
   "execution_count": null,
   "metadata": {},
   "outputs": [
    {
     "data": {
      "application/vnd.jupyter.widget-view+json": {
       "model_id": "bee08dd760d44f0cb6eb42a333e4063f",
       "version_major": 2,
       "version_minor": 0
      },
      "text/plain": [
       "ViewInteractiveWidget(height=768, layout=Layout(height='auto', width='100%'), width=1024)"
      ]
     },
     "metadata": {},
     "output_type": "display_data"
    }
   ],
   "source": [
    "## reset mapdl\n",
    "mapdl.clear()\n",
    "\n",
    "## enter the preprocessor\n",
    "mapdl.prep7()\n",
    "\n",
    "mapdl.units('SI')      # SI unit system\n",
    "\n",
    "## Create geometry\n",
    "mapdl.block(0, structure_length, 0, structure_breadth, 0, node_length)\n",
    "for i in range(0,Nx):                                                                                   ## column number\n",
    "    for j in range(0,Ny):\n",
    "        if j%2 == 0:                                                                                    ## even row number\n",
    "            mapdl.rpr4(6, i*offset_x , j*offset_y, L, 90, node_length)\n",
    "        else:                                                                                           ## odd row number\n",
    "            mapdl.rpr4(6, i*offset_x + offset_x/2 , j*offset_y, L, 90, node_length)\n",
    "mapdl.vsbv(1,'all')\n",
    "honeycomb_core = mapdl.cm(\"CORE\", \"VOLU\")\n",
    "\n",
    "front_facesheet = mapdl.block(0, structure_length, 0, structure_breadth, node_length, node_length + facesheet_thickness)  ## Top facesheet\n",
    "rear_facesheet = mapdl.block(0, structure_length, 0, structure_breadth, -1*facesheet_thickness, 0)                        ## Bottom facesheet\n",
    "\n",
    "mapdl.clocal( 11, 0, structure_length/2, structure_breadth/2, 0)                                         ## Making local coordinate system\n",
    "mapdl.wpcsys('', 11,)                                                                                    ## Shift working plane\n",
    "\n",
    "initial_distance = node_length + facesheet_thickness + 0.02                                              ## 20 mm from center of front facesheet of sandwich panel\n",
    "\n",
    "# 0.44 Remington Magnum Bullet\n",
    "mapdl.cone(0.00545, 0.005486, initial_distance , initial_distance + 0.00825)\n",
    "mapdl.cone(0.00569, 0.005805, initial_distance + 0.00825 , initial_distance + 0.04089 )\n",
    "mapdl.vadd(3,4)\n",
    "bullet = mapdl.cm(\"BULLET\",\"VOLU\")\n",
    "\n",
    "# mapdl.input('bullet9.anf')\n",
    "# mapdl.finish()\n",
    "\n",
    "mapdl.vplot('all')"
   ]
  },
  {
   "cell_type": "markdown",
   "metadata": {},
   "source": [
    "## Step 3 - define material properties, mesh attributes and generate mesh"
   ]
  },
  {
   "cell_type": "code",
   "execution_count": null,
   "metadata": {},
   "outputs": [
    {
     "data": {
      "application/vnd.jupyter.widget-view+json": {
       "model_id": "02e7f3528bc54b9c844e4774ba04e6ec",
       "version_major": 2,
       "version_minor": 0
      },
      "text/plain": [
       "ViewInteractiveWidget(height=768, layout=Layout(height='auto', width='100%'), width=1024)"
      ]
     },
     "metadata": {},
     "output_type": "display_data"
    }
   ],
   "source": [
    "## Define material properties\n",
    "mapdl.mp(\"EX\", 1, 2e5)  # Youngs modulus\n",
    "mapdl.mp(\"PRXY\", 1, 0.3367)  # Poissons ratio\n",
    "\n",
    "## Define element attributes\n",
    "mapdl.et(1, \"SOLID185\") # 3D 8-Node Layered Solid\n",
    "\n",
    "## Define mesh controls\n",
    "\n",
    "mapdl.lesize(\"ALL\", 0.001, layer1=1)\n",
    "# mapdl.smrtsize(1)\n",
    "\n",
    "# Mesh facesheets\n",
    "mapdl.mshape(0, \"3D\")    # mesh the volume with 3D Hexahedral elements\n",
    "mapdl.mshkey(1)          # mapped mesh\n",
    "mapdl.vmesh('2')\n",
    "mapdl.mshape(0, \"3D\")    # mesh the volume with 3D Hexahedral elements\n",
    "mapdl.mshkey(1)          # mapped mesh\n",
    "mapdl.vmesh('1')\n",
    "\n",
    "# Mesh honeycomb core\n",
    "mapdl.mshape(1, \"3D\")    # mesh the volume with 3D Tetrahedral elements\n",
    "mapdl.mshkey(0)          # free mesh\n",
    "mapdl.vmesh('CORE')\n",
    "\n",
    "# Mesh bullet\n",
    "mapdl.mshape(1, \"3D\")    # mesh the volume with 3D Tetrahedral elements\n",
    "mapdl.mshkey(0)          # free mesh\n",
    "mapdl.vmesh('BULLET')\n",
    "\n",
    "## Plot the mesh\n",
    "mapdl.eplot()"
   ]
  },
  {
   "cell_type": "markdown",
   "metadata": {},
   "source": [
    "## Step 4 - apply loads and boundary conditions"
   ]
  },
  {
   "cell_type": "code",
   "execution_count": null,
   "metadata": {},
   "outputs": [
    {
     "data": {
      "text/plain": [
       "SPECIFIED CONSTRAINT UX   FOR SELECTED NODES            1 TO      181249 BY           1\n",
       " REAL=  0.00000000       IMAG=  0.00000000    \n",
       " ADDITIONAL DOFS=  UY    UZ"
      ]
     },
     "execution_count": 11,
     "metadata": {},
     "output_type": "execute_result"
    }
   ],
   "source": [
    "### Make the lateral sides of the panel as fixed support i.e. set displacement of nodes to zero\n",
    "\n",
    "# Select all nodes at the x = 0 end of the sandwich panel\n",
    "mapdl.nsel(\"S\", \"LOC\", \"X\", 0)\n",
    "# Remove all degrees of freedom for all nodes in the selection\n",
    "mapdl.d(\"all\", \"all\")\n",
    "\n",
    "# Select all nodes at the x = structure_length end of the sandwich panel\n",
    "mapdl.nsel(\"S\", \"LOC\", \"X\", structure_length)\n",
    "# Remove all degrees of freedom for all nodes in the selection\n",
    "mapdl.d(\"all\", \"all\")\n",
    "\n",
    "# Select all nodes at the y = 0 end of the sandwich panel\n",
    "mapdl.nsel(\"S\", \"LOC\", \"Y\", 0)\n",
    "# Remove all degrees of freedom for all nodes in the selection\n",
    "mapdl.d(\"all\", \"all\")\n",
    "\n",
    "# Select all nodes at the y = structure_breadth end of the sandwich panel\n",
    "mapdl.nsel(\"S\", \"LOC\", \"Y\", structure_breadth)\n",
    "# Remove all degrees of freedom for all nodes in the selection\n",
    "mapdl.d(\"all\", \"all\")\n"
   ]
  },
  {
   "cell_type": "code",
   "execution_count": null,
   "metadata": {},
   "outputs": [],
   "source": [
    "mapdl.exit()"
   ]
  }
 ],
 "metadata": {
  "kernelspec": {
   "display_name": "Ballistic_shield_design_optimization",
   "language": "python",
   "name": "python3"
  },
  "language_info": {
   "codemirror_mode": {
    "name": "ipython",
    "version": 3
   },
   "file_extension": ".py",
   "mimetype": "text/x-python",
   "name": "python",
   "nbconvert_exporter": "python",
   "pygments_lexer": "ipython3",
   "version": "3.11.6"
  }
 },
 "nbformat": 4,
 "nbformat_minor": 2
}
