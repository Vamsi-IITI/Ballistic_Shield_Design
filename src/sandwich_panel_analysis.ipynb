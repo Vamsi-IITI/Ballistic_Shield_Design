{
 "cells": [
  {
   "cell_type": "markdown",
   "metadata": {},
   "source": [
    "# Numerical Simulation of Ballistic Performance of Honeycomb Sandwich Panels"
   ]
  },
  {
   "cell_type": "markdown",
   "metadata": {},
   "source": [
    "### Objective:\n",
    "Setup a parametric model in PyMAPDL for a honeycomb sandwich panel. Use it for running a Ballistic impact simulation\n",
    "\n",
    "The learning objectives of this demo are:\n",
    "* Setup and solve a parametric model using PyMAPDL\n",
    "* Interactive plotting of CAD, mesh, and results in Pythonic interface."
   ]
  },
  {
   "cell_type": "markdown",
   "metadata": {},
   "source": [
    "### Model Details\n",
    "\n",
    "#### Model parameters:\n",
    "* Cell size\n",
    "* Cell wall thickness\n",
    "* Node length\n",
    "* Facesheet thickness"
   ]
  },
  {
   "cell_type": "markdown",
   "metadata": {},
   "source": [
    "## Step 1 - define all parameters"
   ]
  },
  {
   "cell_type": "code",
   "execution_count": 9,
   "metadata": {},
   "outputs": [],
   "source": [
    "## Main parameters\n",
    "cell_size = 0.006\n",
    "cell_wall_thickness = 0.002\n",
    "node_length = 0.004\n",
    "facesheet_thickness = 0.005"
   ]
  },
  {
   "cell_type": "code",
   "execution_count": 10,
   "metadata": {},
   "outputs": [],
   "source": [
    "# Fixed constants\n",
    "strucutre_length = 0.1\n",
    "strucutre_breadth = 0.1"
   ]
  },
  {
   "cell_type": "code",
   "execution_count": 11,
   "metadata": {},
   "outputs": [
    {
     "name": "stdout",
     "output_type": "stream",
     "text": [
      "L =  0.0034641016151377548\n",
      "offset_x =  0.008\n",
      "offset_y =  0.0069282032302755096\n",
      "Nx =  13\n",
      "Ny =  15\n"
     ]
    }
   ],
   "source": [
    "# Import libraries\n",
    "import numpy as np\n",
    "import matplotlib.pyplot as plt\n",
    "\n",
    "# Additional calculation \n",
    "L = cell_size/ np.sqrt(3)\n",
    "offset_x = cell_size + cell_wall_thickness\n",
    "offset_y = 1.5*L + cell_wall_thickness*(np.sin(np.pi/3))\n",
    "Nx = int(strucutre_length / offset_x) + 1\n",
    "Ny = int(strucutre_breadth / offset_y) + 1\n",
    "print(\"L = \", L)\n",
    "print(\"offset_x = \", offset_x)\n",
    "print(\"offset_y = \", offset_y)\n",
    "print(\"Nx = \", Nx)\n",
    "print(\"Ny = \", Ny)"
   ]
  },
  {
   "cell_type": "markdown",
   "metadata": {},
   "source": [
    "# Step 2 - launch MAPDL and create geometry"
   ]
  },
  {
   "cell_type": "code",
   "execution_count": 12,
   "metadata": {},
   "outputs": [
    {
     "name": "stdout",
     "output_type": "stream",
     "text": [
      "Product:             Ansys Mechanical Enterprise\n",
      "MAPDL Version:       23.1\n",
      "ansys.mapdl Version: 0.64.0\n",
      "\n"
     ]
    }
   ],
   "source": [
    "from ansys.mapdl.core import launch_mapdl\n",
    "\n",
    "# start mapdl\n",
    "mapdl = launch_mapdl()\n",
    "print(mapdl)"
   ]
  },
  {
   "cell_type": "code",
   "execution_count": 13,
   "metadata": {},
   "outputs": [
    {
     "data": {
      "application/vnd.jupyter.widget-view+json": {
       "model_id": "c788a4922e42496183ec19d83adb0807",
       "version_major": 2,
       "version_minor": 0
      },
      "text/plain": [
       "ViewInteractiveWidget(height=768, layout=Layout(height='auto', width='100%'), width=1024)"
      ]
     },
     "metadata": {},
     "output_type": "display_data"
    }
   ],
   "source": [
    "## reset mapdl\n",
    "mapdl.clear()\n",
    "mapdl.prep7()\n",
    "\n",
    "## Create geometry\n",
    "mapdl.block(0, strucutre_length, 0, strucutre_breadth, 0, node_length)\n",
    "for i in range(0,Nx):\n",
    "    for j in range(0,Ny):\n",
    "        if j%2 == 0:\n",
    "            mapdl.rpr4(6, i*offset_x , j*offset_y, L, 90, node_length)\n",
    "        else:\n",
    "            mapdl.rpr4(6, i*offset_x + offset_x/2 , j*offset_y, L, 90, node_length)\n",
    "mapdl.vsbv(1,'all')\n",
    "mapdl.cm(\"CORE\", \"VOLU\")\n",
    "mapdl.block(0, strucutre_length, 0, strucutre_breadth, node_length, node_length + facesheet_thickness)  # Top facesheet\n",
    "mapdl.block(0, strucutre_length, 0, strucutre_breadth, -1*facesheet_thickness, 0)                       # Bottom facesheet\n",
    "\n",
    "mapdl.vplot('all')"
   ]
  },
  {
   "cell_type": "markdown",
   "metadata": {},
   "source": [
    "## Step 3 - define material properties, mesh attributes and generate mesh"
   ]
  },
  {
   "cell_type": "code",
   "execution_count": 14,
   "metadata": {},
   "outputs": [
    {
     "data": {
      "application/vnd.jupyter.widget-view+json": {
       "model_id": "ce3eea2ae7ba441d866f297d9fe6541c",
       "version_major": 2,
       "version_minor": 0
      },
      "text/plain": [
       "ViewInteractiveWidget(height=768, layout=Layout(height='auto', width='100%'), width=1024)"
      ]
     },
     "metadata": {},
     "output_type": "display_data"
    }
   ],
   "source": [
    "## Define material properties\n",
    "mapdl.mp(\"EX\", 1, 2e5)  # Youngs modulus\n",
    "mapdl.mp(\"PRXY\", 1, 0.3367)  # Poissons ratio\n",
    "\n",
    "## Define element attributes\n",
    "mapdl.et(1, \"SOLID185\") # 3D 8-Node Layered Solid\n",
    "\n",
    "## Define mesh controls\n",
    "\n",
    "mapdl.lesize(\"ALL\", 0.001, layer1=1)\n",
    "# mapdl.smrtsize(1)\n",
    "\n",
    "# Mesh facesheets\n",
    "mapdl.mshape(0, \"3D\")    # mesh the volume with 3D Hexahedral elements\n",
    "mapdl.mshkey(1)          # mapped mesh\n",
    "mapdl.vmesh('2')\n",
    "mapdl.mshape(0, \"3D\")    # mesh the volume with 3D Hexahedral elements\n",
    "mapdl.mshkey(1)          # mapped mesh\n",
    "mapdl.vmesh('1')\n",
    "\n",
    "# Mesh honeycomb core\n",
    "mapdl.mshape(1, \"3D\")    # mesh the volume with 3D Tetrahedral elements\n",
    "mapdl.mshkey(0)          # free mesh\n",
    "mapdl.vmesh('CORE')\n",
    "\n",
    "## Plot the mesh\n",
    "mapdl.eplot()"
   ]
  },
  {
   "cell_type": "markdown",
   "metadata": {},
   "source": [
    "## Step 4 - apply loads and boundary conditions"
   ]
  },
  {
   "cell_type": "code",
   "execution_count": 15,
   "metadata": {},
   "outputs": [
    {
     "data": {
      "text/plain": [
       "SPECIFIED CONSTRAINT UZ   FOR SELECTED NODES            1 TO      173366 BY           1\n",
       " REAL=  0.00000000       IMAG=  0.00000000"
      ]
     },
     "execution_count": 15,
     "metadata": {},
     "output_type": "execute_result"
    }
   ],
   "source": [
    "### Make the lateral sides of the panel as fixed support i.e. set displacement of nodes\n",
    "\n",
    "# Select all nodes at the x = 0 end of the sandwich panel\n",
    "mapdl.nsel(\"S\", \"LOC\", \"X\", 0)\n",
    "# Remove all degrees of freedom for all nodes in the selection\n",
    "mapdl.d(\"ALL\", \"UX\")\n",
    "mapdl.d(\"ALL\", \"UY\")\n",
    "mapdl.d(\"ALL\", \"UZ\")\n",
    "\n",
    "# Select all nodes at the x = structure_length end of the sandwich panel\n",
    "mapdl.nsel(\"S\", \"LOC\", \"X\", strucutre_length)\n",
    "# Remove all degrees of freedom for all nodes in the selection\n",
    "#mapdl.d(\"all\", \"all\")\n",
    "mapdl.d(\"ALL\", \"UX\")\n",
    "mapdl.d(\"ALL\", \"UY\")\n",
    "mapdl.d(\"ALL\", \"UZ\")\n",
    "\n",
    "# Select all nodes at the y = 0 end of the sandwich panel\n",
    "mapdl.nsel(\"S\", \"LOC\", \"Y\", 0)\n",
    "# Remove all degrees of freedom for all nodes in the selection\n",
    "mapdl.d(\"ALL\", \"UX\")\n",
    "mapdl.d(\"ALL\", \"UY\")\n",
    "mapdl.d(\"ALL\", \"UZ\")\n",
    "\n",
    "# Select all nodes at the y = structure_breadth end of the sandwich panel\n",
    "mapdl.nsel(\"S\", \"LOC\", \"Y\", strucutre_breadth)\n",
    "# Remove all degrees of freedom for all nodes in the selection\n",
    "mapdl.d(\"ALL\", \"UX\")\n",
    "mapdl.d(\"ALL\", \"UY\")\n",
    "mapdl.d(\"ALL\", \"UZ\")"
   ]
  },
  {
   "cell_type": "code",
   "execution_count": 16,
   "metadata": {},
   "outputs": [],
   "source": [
    "mapdl.exit()"
   ]
  }
 ],
 "metadata": {
  "kernelspec": {
   "display_name": "Ballistic_shield_design_optimization",
   "language": "python",
   "name": "python3"
  },
  "language_info": {
   "codemirror_mode": {
    "name": "ipython",
    "version": 3
   },
   "file_extension": ".py",
   "mimetype": "text/x-python",
   "name": "python",
   "nbconvert_exporter": "python",
   "pygments_lexer": "ipython3",
   "version": "3.11.6"
  }
 },
 "nbformat": 4,
 "nbformat_minor": 2
}
