{
 "cells": [
  {
   "cell_type": "markdown",
   "metadata": {},
   "source": [
    "# Numerical Simulation of Ballistic Performance of Honeycomb Sandwich Panels"
   ]
  },
  {
   "cell_type": "markdown",
   "metadata": {},
   "source": [
    "### Objective:\n",
    "Setup a parametric model in PyMAPDL for a honeycomb sandwich panel. Use it for running a Ballistic impact simulation\n",
    "\n",
    "The learning objectives of this demo are:\n",
    "* Setup and solve a parametric model using PyMAPDL\n",
    "* Interactive plotting of CAD, mesh, and results in Pythonic interface."
   ]
  },
  {
   "cell_type": "markdown",
   "metadata": {},
   "source": [
    "### Model Details\n",
    "\n",
    "#### Model parameters:\n",
    "* Cell size\n",
    "* Cell wall thickness\n",
    "* Node length\n",
    "* Facesheet thickness"
   ]
  },
  {
   "cell_type": "markdown",
   "metadata": {},
   "source": [
    "## Step 1 - define all parameters"
   ]
  },
  {
   "cell_type": "code",
   "execution_count": null,
   "metadata": {},
   "outputs": [],
   "source": [
    "## Main parameters\n",
    "cell_size = 0.006\n",
    "cell_wall_thickness = 0.002\n",
    "node_length = 0.004\n",
    "facesheet_thickness = 0.005"
   ]
  },
  {
   "cell_type": "code",
   "execution_count": null,
   "metadata": {},
   "outputs": [],
   "source": [
    "# Fixed constants\n",
    "structure_length = 0.1\n",
    "structure_breadth = 0.1"
   ]
  },
  {
   "cell_type": "code",
   "execution_count": 3,
   "metadata": {},
   "outputs": [
    {
     "name": "stdout",
     "output_type": "stream",
     "text": [
      "L =  0.0034641016151377548\n",
      "offset_x =  0.008\n",
      "offset_y =  0.0069282032302755096\n",
      "Nx =  13\n",
      "Ny =  15\n"
     ]
    }
   ],
   "source": [
    "# Import libraries\n",
    "import numpy as np\n",
    "import matplotlib.pyplot as plt\n",
    "\n",
    "# Additional calculation \n",
    "L = cell_size/ np.sqrt(3)\n",
    "offset_x = cell_size + cell_wall_thickness\n",
    "offset_y = 1.5*L + cell_wall_thickness*(np.sin(np.pi/3))\n",
    "Nx = int(structure_length / offset_x) + 1\n",
    "Ny = int(structure_breadth / offset_y) + 1\n",
    "print(\"L = \", L)\n",
    "print(\"offset_x = \", offset_x)\n",
    "print(\"offset_y = \", offset_y)\n",
    "print(\"Nx = \", Nx)\n",
    "print(\"Ny = \", Ny)"
   ]
  },
  {
   "cell_type": "markdown",
   "metadata": {},
   "source": [
    "# Step 2 - launch MAPDL and create geometry"
   ]
  },
  {
   "cell_type": "code",
   "execution_count": 13,
   "metadata": {},
   "outputs": [
    {
     "name": "stdout",
     "output_type": "stream",
     "text": [
      "Product:             Ansys Mechanical Enterprise\n",
      "MAPDL Version:       23.1\n",
      "ansys.mapdl Version: 0.64.0\n",
      "\n"
     ]
    }
   ],
   "source": [
    "from ansys.mapdl.core import launch_mapdl\n",
    "\n",
    "# start mapdl\n",
    "mapdl = launch_mapdl()\n",
    "print(mapdl)"
   ]
  },
  {
   "cell_type": "code",
   "execution_count": null,
   "metadata": {},
   "outputs": [],
   "source": [
    "# mapdl.open_gui()"
   ]
  },
  {
   "cell_type": "markdown",
   "metadata": {},
   "source": [
    "## Step 2 : Generate Geometry"
   ]
  },
  {
   "cell_type": "code",
   "execution_count": 5,
   "metadata": {},
   "outputs": [
    {
     "data": {
      "application/vnd.jupyter.widget-view+json": {
       "model_id": "19d8225ea3a74933a4e467ef5a83335b",
       "version_major": 2,
       "version_minor": 0
      },
      "text/plain": [
       "ViewInteractiveWidget(height=768, layout=Layout(height='auto', width='100%'), width=1024)"
      ]
     },
     "metadata": {},
     "output_type": "display_data"
    }
   ],
   "source": [
    "## reset mapdl\n",
    "mapdl.clear()\n",
    "\n",
    "## enter the preprocessor\n",
    "mapdl.prep7()\n",
    "\n",
    "mapdl.units('SI')      # SI unit system\n",
    "\n",
    "## Create geometry of honeycomb core\n",
    "mapdl.block(0, structure_length, 0, structure_breadth, 0, node_length)\n",
    "for i in range(0,Nx):                                                                                   ## column number\n",
    "    for j in range(0,Ny):\n",
    "        if j%2 == 0:                                                                                    ## even row number\n",
    "            mapdl.rpr4(6, i*offset_x , j*offset_y, L, 90, node_length)\n",
    "        else:                                                                                           ## odd row number\n",
    "            mapdl.rpr4(6, i*offset_x + offset_x/2 , j*offset_y, L, 90, node_length)\n",
    "mapdl.vsbv(1,'all')\n",
    "honeycomb_core = mapdl.cm(\"CORE\", \"VOLU\")\n",
    "\n",
    "## Generate geometry of facesheets\n",
    "front_facesheet = mapdl.block(0, structure_length, 0, structure_breadth, node_length, node_length + facesheet_thickness)  ## Top facesheet\n",
    "rear_facesheet = mapdl.block(0, structure_length, 0, structure_breadth, -1*facesheet_thickness, 0)                        ## Bottom facesheet\n",
    "\n",
    "mapdl.clocal( 11, 0, structure_length/2, structure_breadth/2, 0)                                         ## Making local coordinate system\n",
    "mapdl.wpcsys('', 11,)                                                                                    ## Shift working plane\n",
    "\n",
    "initial_distance = node_length + facesheet_thickness + 0.02                                              ## 20 mm from center of front facesheet of sandwich panel\n",
    "\n",
    "# Generate Geometry of 0.44 Remington Magnum Bullet\n",
    "mapdl.cone(0.0052, 0.005486, initial_distance , initial_distance + 0.00825)\n",
    "mapdl.cone(0.00569, 0.005805, initial_distance + 0.00825 , initial_distance + 0.04089 )\n",
    "mapdl.vadd(3,4)\n",
    "bullet = mapdl.cm(\"BULLET\",\"VOLU\")\n",
    "\n",
    "mapdl.vplot('all')"
   ]
  },
  {
   "cell_type": "markdown",
   "metadata": {},
   "source": [
    "## Step 3 - define material properties, mesh attributes and generate mesh"
   ]
  },
  {
   "cell_type": "code",
   "execution_count": 6,
   "metadata": {},
   "outputs": [
    {
     "data": {
      "application/vnd.jupyter.widget-view+json": {
       "model_id": "0d8699444023497a8b21f182cc2c6b22",
       "version_major": 2,
       "version_minor": 0
      },
      "text/plain": [
       "ViewInteractiveWidget(height=768, layout=Layout(height='auto', width='100%'), width=1024)"
      ]
     },
     "metadata": {},
     "output_type": "display_data"
    }
   ],
   "source": [
    "## Define material properties\n",
    "mapdl.mp(\"EX\", 1, 2e5)  # Youngs modulus\n",
    "mapdl.mp(\"PRXY\", 1, 0.3367)  # Poissons ratio\n",
    "\n",
    "## Define element attributes\n",
    "mapdl.et(1, \"SOLID185\") # 3D 8-Node Layered Solid\n",
    "\n",
    "## Define mesh controls\n",
    "\n",
    "mapdl.lesize(\"ALL\", 0.001, layer1=1)\n",
    "# mapdl.smrtsize(1)\n",
    "\n",
    "# Mesh facesheets\n",
    "mapdl.mshape(0, \"3D\")    # mesh the volume with 3D Hexahedral elements\n",
    "mapdl.mshkey(1)          # mapped mesh\n",
    "mapdl.vmesh('2')\n",
    "mapdl.mshape(0, \"3D\")    # mesh the volume with 3D Hexahedral elements\n",
    "mapdl.mshkey(1)          # mapped mesh\n",
    "mapdl.vmesh('1')\n",
    "\n",
    "# Mesh honeycomb core\n",
    "mapdl.mshape(1, \"3D\")    # mesh the volume with 3D Tetrahedral elements\n",
    "mapdl.mshkey(0)          # free mesh\n",
    "mapdl.vmesh('CORE')\n",
    "\n",
    "# Mesh bullet\n",
    "mapdl.mshape(1, \"3D\")    # mesh the volume with 3D Tetrahedral elements\n",
    "mapdl.mshkey(0)          # free mesh\n",
    "mapdl.vmesh('BULLET')\n",
    "\n",
    "## Plot the mesh\n",
    "mapdl.eplot()"
   ]
  },
  {
   "cell_type": "markdown",
   "metadata": {},
   "source": [
    "## Step 4 - apply loads and boundary conditions"
   ]
  },
  {
   "cell_type": "code",
   "execution_count": 7,
   "metadata": {},
   "outputs": [
    {
     "data": {
      "text/plain": [
       "SPECIFIED CONSTRAINT UX   FOR SELECTED NODES            1 TO      181204 BY           1\n",
       " REAL=  0.00000000       IMAG=  0.00000000    \n",
       " ADDITIONAL DOFS=  UY    UZ"
      ]
     },
     "execution_count": 7,
     "metadata": {},
     "output_type": "execute_result"
    }
   ],
   "source": [
    "### Make the lateral sides of the panel as fixed support i.e. set displacement of nodes to zero\n",
    "\n",
    "# Select all nodes at the x = 0 end (plane) of the sandwich panel\n",
    "mapdl.nsel(\"S\", \"LOC\", \"X\", 0)\n",
    "# Remove all degrees of freedom for all nodes in the selection\n",
    "mapdl.d(\"all\", \"all\")\n",
    "\n",
    "# Select all nodes at the x = structure_length end of the sandwich panel\n",
    "mapdl.nsel(\"S\", \"LOC\", \"X\", structure_length)\n",
    "# Remove all degrees of freedom for all nodes in the selection\n",
    "mapdl.d(\"all\", \"all\")\n",
    "\n",
    "# Select all nodes at the y = 0 end of the sandwich panel\n",
    "mapdl.nsel(\"S\", \"LOC\", \"Y\", 0)\n",
    "# Remove all degrees of freedom for all nodes in the selection\n",
    "mapdl.d(\"all\", \"all\")\n",
    "\n",
    "# Select all nodes at the y = structure_breadth end of the sandwich panel\n",
    "mapdl.nsel(\"S\", \"LOC\", \"Y\", structure_breadth)\n",
    "# Remove all degrees of freedom for all nodes in the selection\n",
    "mapdl.d(\"all\", \"all\")\n",
    "\n"
   ]
  },
  {
   "cell_type": "code",
   "execution_count": 8,
   "metadata": {},
   "outputs": [
    {
     "ename": "MapdlRuntimeError",
     "evalue": "\n\nError in instance GRPC_127.0.0.1:50052\n\n*** ERROR ***                           CP =      24.453   TIME= 16:20:42\n The capability LsDyna was either not ordered with this Ansys            \n installation or the appropriate product was not selected for this       \n session.                                                                \n  Contact your Ansys support person for more information.",
     "output_type": "error",
     "traceback": [
      "\u001b[1;31m---------------------------------------------------------------------------\u001b[0m",
      "\u001b[1;31mMapdlRuntimeError\u001b[0m                         Traceback (most recent call last)",
      "\u001b[1;32mc:\\Users\\HPRVa\\Ballistic_shield_design_optimization\\src\\sandwich_panel_analysis.ipynb Cell 17\u001b[0m line \u001b[0;36m1\n\u001b[1;32m----> <a href='vscode-notebook-cell:/c%3A/Users/HPRVa/Ballistic_shield_design_optimization/src/sandwich_panel_analysis.ipynb#X33sZmlsZQ%3D%3D?line=0'>1</a>\u001b[0m mapdl\u001b[39m.\u001b[39;49medpvel(\u001b[39m'\u001b[39;49m\u001b[39mVELO\u001b[39;49m\u001b[39m'\u001b[39;49m, \u001b[39m'\u001b[39;49m\u001b[39mBULLET\u001b[39;49m\u001b[39m'\u001b[39;49m, vz\u001b[39m=\u001b[39;49m\u001b[39m'\u001b[39;49m\u001b[39m-400\u001b[39;49m\u001b[39m'\u001b[39;49m)\n",
      "File \u001b[1;32mc:\\Users\\HPRVa\\Ballistic_shield_design_optimization\\Lib\\site-packages\\ansys\\mapdl\\core\\_commands\\preproc\\explicit_dynamics.py:3066\u001b[0m, in \u001b[0;36mExplicitDynamics.edpvel\u001b[1;34m(self, option, pid, vx, vy, vz, omegax, omegay, omegaz, xc, yc, zc, angx, angy, angz, **kwargs)\u001b[0m\n\u001b[0;32m   2942\u001b[0m \u001b[39m\u001b[39m\u001b[39m\"\"\"Applies initial velocities to parts or part assemblies in an explicit\u001b[39;00m\n\u001b[0;32m   2943\u001b[0m \n\u001b[0;32m   2944\u001b[0m \u001b[39mAPDL Command: EDPVEL\u001b[39;00m\n\u001b[1;32m   (...)\u001b[0m\n\u001b[0;32m   3063\u001b[0m \u001b[39mDistributed ANSYS.\u001b[39;00m\n\u001b[0;32m   3064\u001b[0m \u001b[39m\"\"\"\u001b[39;00m\n\u001b[0;32m   3065\u001b[0m command \u001b[39m=\u001b[39m \u001b[39mf\u001b[39m\u001b[39m\"\u001b[39m\u001b[39mEDPVEL,\u001b[39m\u001b[39m{\u001b[39;00moption\u001b[39m}\u001b[39;00m\u001b[39m,\u001b[39m\u001b[39m{\u001b[39;00mpid\u001b[39m}\u001b[39;00m\u001b[39m,\u001b[39m\u001b[39m{\u001b[39;00mvx\u001b[39m}\u001b[39;00m\u001b[39m,\u001b[39m\u001b[39m{\u001b[39;00mvy\u001b[39m}\u001b[39;00m\u001b[39m,\u001b[39m\u001b[39m{\u001b[39;00mvz\u001b[39m}\u001b[39;00m\u001b[39m,\u001b[39m\u001b[39m{\u001b[39;00momegax\u001b[39m}\u001b[39;00m\u001b[39m,\u001b[39m\u001b[39m{\u001b[39;00momegay\u001b[39m}\u001b[39;00m\u001b[39m,\u001b[39m\u001b[39m{\u001b[39;00momegaz\u001b[39m}\u001b[39;00m\u001b[39m,\u001b[39m\u001b[39m{\u001b[39;00mxc\u001b[39m}\u001b[39;00m\u001b[39m,\u001b[39m\u001b[39m{\u001b[39;00myc\u001b[39m}\u001b[39;00m\u001b[39m,\u001b[39m\u001b[39m{\u001b[39;00mzc\u001b[39m}\u001b[39;00m\u001b[39m,\u001b[39m\u001b[39m{\u001b[39;00mangx\u001b[39m}\u001b[39;00m\u001b[39m,\u001b[39m\u001b[39m{\u001b[39;00mangy\u001b[39m}\u001b[39;00m\u001b[39m,\u001b[39m\u001b[39m{\u001b[39;00mangz\u001b[39m}\u001b[39;00m\u001b[39m\"\u001b[39m\n\u001b[1;32m-> 3066\u001b[0m \u001b[39mreturn\u001b[39;00m \u001b[39mself\u001b[39;49m\u001b[39m.\u001b[39;49mrun(command, \u001b[39m*\u001b[39;49m\u001b[39m*\u001b[39;49mkwargs)\n",
      "File \u001b[1;32mc:\\Users\\HPRVa\\Ballistic_shield_design_optimization\\Lib\\site-packages\\ansys\\mapdl\\core\\mapdl.py:2882\u001b[0m, in \u001b[0;36m_MapdlCore.run\u001b[1;34m(self, command, write_to_log, mute, **kwargs)\u001b[0m\n\u001b[0;32m   2880\u001b[0m     \u001b[39m# flag errors\u001b[39;00m\n\u001b[0;32m   2881\u001b[0m     \u001b[39mif\u001b[39;00m \u001b[39m\"\u001b[39m\u001b[39m*** ERROR ***\u001b[39m\u001b[39m\"\u001b[39m \u001b[39min\u001b[39;00m \u001b[39mself\u001b[39m\u001b[39m.\u001b[39m_response:\n\u001b[1;32m-> 2882\u001b[0m         \u001b[39mself\u001b[39;49m\u001b[39m.\u001b[39;49m_raise_output_errors(\u001b[39mself\u001b[39;49m\u001b[39m.\u001b[39;49m_response)\n\u001b[0;32m   2884\u001b[0m \u001b[39m# special returns for certain geometry commands\u001b[39;00m\n\u001b[0;32m   2885\u001b[0m short_cmd \u001b[39m=\u001b[39m parse_to_short_cmd(command)\n",
      "File \u001b[1;32mc:\\Users\\HPRVa\\Ballistic_shield_design_optimization\\Lib\\site-packages\\ansys\\mapdl\\core\\mapdl.py:3880\u001b[0m, in \u001b[0;36m_MapdlCore._raise_output_errors\u001b[1;34m(self, response)\u001b[0m\n\u001b[0;32m   3874\u001b[0m     \u001b[39mcontinue\u001b[39;00m\n\u001b[0;32m   3875\u001b[0m \u001b[39melse\u001b[39;00m:\n\u001b[0;32m   3876\u001b[0m     \u001b[39m# We don't need to log exception because they already included in the main logger.\u001b[39;00m\n\u001b[0;32m   3877\u001b[0m     \u001b[39m# logger.error(response)\u001b[39;00m\n\u001b[0;32m   3878\u001b[0m     \u001b[39m# However, exceptions are recorded in the global logger which do not record\u001b[39;00m\n\u001b[0;32m   3879\u001b[0m     \u001b[39m# information of the instances name, hence we edit the error message.\u001b[39;00m\n\u001b[1;32m-> 3880\u001b[0m     \u001b[39mraise\u001b[39;00m MapdlRuntimeError(\n\u001b[0;32m   3881\u001b[0m         \u001b[39mf\u001b[39m\u001b[39m\"\u001b[39m\u001b[39m\\n\u001b[39;00m\u001b[39m\\n\u001b[39;00m\u001b[39mError in instance \u001b[39m\u001b[39m{\u001b[39;00m\u001b[39mself\u001b[39m\u001b[39m.\u001b[39mname\u001b[39m}\u001b[39;00m\u001b[39m\\n\u001b[39;00m\u001b[39m\\n\u001b[39;00m\u001b[39m\"\u001b[39m \u001b[39m+\u001b[39m error_message\n\u001b[0;32m   3882\u001b[0m     )\n",
      "\u001b[1;31mMapdlRuntimeError\u001b[0m: \n\nError in instance GRPC_127.0.0.1:50052\n\n*** ERROR ***                           CP =      24.453   TIME= 16:20:42\n The capability LsDyna was either not ordered with this Ansys            \n installation or the appropriate product was not selected for this       \n session.                                                                \n  Contact your Ansys support person for more information."
     ]
    }
   ],
   "source": [
    "mapdl.edpvel('VELO', 'BULLET', vz='-400')"
   ]
  },
  {
   "cell_type": "code",
   "execution_count": 11,
   "metadata": {},
   "outputs": [
    {
     "name": "stdout",
     "output_type": "stream",
     "text": [
      "-------------------------------------------------------------------------------\n",
      "\n",
      "\n",
      "PyMAPDL Software and Environment Report\n",
      "\n",
      "\n",
      "Packages Requirements\n",
      "*********************\n",
      "\n",
      "Core packages\n",
      "-------------\n",
      "ansys.mapdl.core    : 0.64.0\n",
      "numpy               : 1.24.3\n",
      "appdirs             : 1.4.4\n",
      "scipy               : 1.10.1\n",
      "grpc                : Package not found\n",
      "ansys.api.mapdl.v0  : Package not found\n",
      "ansys.mapdl.reader  : 0.52.13\n",
      "google.protobuf     : Package not found\n",
      "\n",
      "Optional packages\n",
      "-----------------\n",
      "matplotlib          : 3.6.2\n",
      "pyvista             : 0.37.0\n",
      "pyiges              : 0.2.1\n",
      "tqdm                : 4.65.0\n",
      "\n",
      "\n",
      "Ansys Installation\n",
      "******************\n",
      "Version   Location\n",
      "------------------\n",
      "231       C:\\Program Files\\ANSYS Inc\\v231\n",
      "\n",
      "\n",
      "Ansys Environment Variables\n",
      "***************************\n",
      "ANSYS231_DIR                   C:\\Program Files\\ANSYS Inc\\v231\\ANSYS\n",
      "ANSYSLIC_DIR                   C:\\Program Files\\ANSYS Inc\\Shared Files\\Licensing\n",
      "AWP_LOCALE231                  en-us\n",
      "AWP_ROOT231                    C:\\Program Files\\ANSYS Inc\\v231\n",
      "CADOE_LIBDIR231                C:\\Program Files\\ANSYS Inc\\v231\\CommonFiles\\Language\\en-us\n"
     ]
    }
   ],
   "source": [
    "# from ansys.mapdl.core import Report\n",
    "# print(Report())"
   ]
  },
  {
   "cell_type": "code",
   "execution_count": null,
   "metadata": {},
   "outputs": [],
   "source": [
    "# mapdl.ignore_errors = True"
   ]
  },
  {
   "cell_type": "code",
   "execution_count": null,
   "metadata": {},
   "outputs": [],
   "source": [
    "# mapdl.run(\"/SOLU\")\n",
    "# mapdl.antype(4)  # transient analysis\n",
    "# mapdl.trnopt(\"FULL\")  # full transient analysis\n",
    "# mapdl.run(\"/STATUS,SOLU\")\n",
    "# mapdl.solve()"
   ]
  },
  {
   "cell_type": "code",
   "execution_count": 14,
   "metadata": {},
   "outputs": [],
   "source": [
    "# mapdl.exit()"
   ]
  }
 ],
 "metadata": {
  "kernelspec": {
   "display_name": "Ballistic_shield_design_optimization",
   "language": "python",
   "name": "python3"
  },
  "language_info": {
   "codemirror_mode": {
    "name": "ipython",
    "version": 3
   },
   "file_extension": ".py",
   "mimetype": "text/x-python",
   "name": "python",
   "nbconvert_exporter": "python",
   "pygments_lexer": "ipython3",
   "version": "3.11.6"
  }
 },
 "nbformat": 4,
 "nbformat_minor": 2
}
