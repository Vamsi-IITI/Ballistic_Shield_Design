{
 "cells": [
  {
   "cell_type": "markdown",
   "metadata": {},
   "source": [
    "# Parametric model of Honeycomb core"
   ]
  },
  {
   "cell_type": "markdown",
   "metadata": {},
   "source": [
    "### Objective:\n",
    "Setup a parametric model in PyMAPDL for a honeycomb core. The model is setup such that one can change the dimensions of the honeycomb core\n",
    "\n",
    "The learning objectives of this demo are:\n",
    "* Setup and solve a parametric model using PyMAPDL\n",
    "* Interactive plotting of CAD, mesh, and results in Pythonic interface."
   ]
  },
  {
   "cell_type": "markdown",
   "metadata": {},
   "source": [
    "### Model Details\n",
    "\n",
    "#### Model parameters:\n",
    "* Cell size\n",
    "* Cell wall thickness\n",
    "* Node length"
   ]
  },
  {
   "cell_type": "markdown",
   "metadata": {},
   "source": [
    "## Step 1 - define all parameters"
   ]
  },
  {
   "cell_type": "code",
   "execution_count": 4,
   "metadata": {},
   "outputs": [],
   "source": [
    "## Main parameters\n",
    "cell_size = 0.006\n",
    "cell_wall_thickness = 0.002\n",
    "node_length = 0.004\n",
    "facesheet_thickness = 0.005"
   ]
  },
  {
   "cell_type": "code",
   "execution_count": 5,
   "metadata": {},
   "outputs": [],
   "source": [
    "# Fixed constants\n",
    "strucutre_length = 0.1\n",
    "strucutre_breadth = 0.1"
   ]
  },
  {
   "cell_type": "code",
   "execution_count": 13,
   "metadata": {},
   "outputs": [
    {
     "name": "stdout",
     "output_type": "stream",
     "text": [
      "L =  0.0034641016151377548\n",
      "offset_x =  0.008\n",
      "offset_y =  0.00892820323027551\n",
      "Nx =  12\n",
      "Ny =  11\n"
     ]
    }
   ],
   "source": [
    "# Import libraries\n",
    "import numpy as np\n",
    "import matplotlib.pyplot as plt\n",
    "\n",
    "# Additional calculation \n",
    "L = cell_size/ np.sqrt(3)\n",
    "offset_x = cell_size + cell_wall_thickness\n",
    "offset_y = 2*L + cell_wall_thickness\n",
    "Nx = int(strucutre_length / offset_x)\n",
    "Ny = int(strucutre_breadth / offset_y)\n",
    "print(\"L = \", L)\n",
    "print(\"offset_x = \", offset_x)\n",
    "print(\"offset_y = \", offset_y)\n",
    "print(\"Nx = \", Nx)\n",
    "print(\"Ny = \", Ny)"
   ]
  },
  {
   "cell_type": "markdown",
   "metadata": {},
   "source": [
    "# Step 2 - launch MAPDL and create geometry"
   ]
  },
  {
   "cell_type": "code",
   "execution_count": 7,
   "metadata": {},
   "outputs": [
    {
     "name": "stdout",
     "output_type": "stream",
     "text": [
      "PyMAPDL is taking longer than expected to connect to an MAPDL session.\n",
      "Checking if there are any available licenses...\n",
      "Product:             Ansys Mechanical Enterprise\n",
      "MAPDL Version:       23.1\n",
      "ansys.mapdl Version: 0.64.0\n",
      "\n"
     ]
    }
   ],
   "source": [
    "from ansys.mapdl.core import launch_mapdl\n",
    "\n",
    "# start mapdl\n",
    "mapdl = launch_mapdl()\n",
    "print(mapdl)"
   ]
  },
  {
   "cell_type": "code",
   "execution_count": 5,
   "metadata": {},
   "outputs": [
    {
     "data": {
      "application/vnd.jupyter.widget-view+json": {
       "model_id": "579f67d28acd4ff48d77f953a6acaaf8",
       "version_major": 2,
       "version_minor": 0
      },
      "text/plain": [
       "ViewInteractiveWidget(height=768, layout=Layout(height='auto', width='100%'), width=1024)"
      ]
     },
     "metadata": {},
     "output_type": "display_data"
    }
   ],
   "source": [
    "## reset mapdl\n",
    "mapdl.clear()\n",
    "mapdl.prep7()\n",
    "\n",
    "## Create geometry\n",
    "mapdl.block(0, strucutre_length, 0, strucutre_breadth, 0, node_length)\n",
    "for i in range(1,5+1):\n",
    "    for j in range(1,5+1):\n",
    "        mapdl.rpr4(6, i*0.1/(5+1) , j*0.1/(5+1), L, '', node_length)\n",
    "mapdl.vsbv(1,'all')\n",
    "\n",
    "mapdl.vplot('all')"
   ]
  },
  {
   "cell_type": "code",
   "execution_count": 14,
   "metadata": {},
   "outputs": [
    {
     "data": {
      "application/vnd.jupyter.widget-view+json": {
       "model_id": "517bfb73c6ee43579f57dc59db146c3e",
       "version_major": 2,
       "version_minor": 0
      },
      "text/plain": [
       "ViewInteractiveWidget(height=768, layout=Layout(height='auto', width='100%'), width=1024)"
      ]
     },
     "metadata": {},
     "output_type": "display_data"
    }
   ],
   "source": [
    "## reset mapdl\n",
    "mapdl.clear()\n",
    "mapdl.prep7()\n",
    "\n",
    "## Create geometry\n",
    "mapdl.block(0, strucutre_length, 0, strucutre_breadth, 0, node_length)\n",
    "for i in range(0,Nx):\n",
    "    for j in range(0,Ny):\n",
    "        mapdl.rpr4(6, i*0.1/(Nx) , j*0.1/(Ny), L, '', node_length)\n",
    "mapdl.vsbv(1,'all')\n",
    "\n",
    "mapdl.vplot('all')"
   ]
  },
  {
   "cell_type": "markdown",
   "metadata": {},
   "source": [
    "## Step 3 - define material properties, mesh attributes and generate mesh"
   ]
  },
  {
   "cell_type": "code",
   "execution_count": 6,
   "metadata": {},
   "outputs": [
    {
     "data": {
      "application/vnd.jupyter.widget-view+json": {
       "model_id": "cb573491af034350aecc4bdac6c9d990",
       "version_major": 2,
       "version_minor": 0
      },
      "text/plain": [
       "ViewInteractiveWidget(height=768, layout=Layout(height='auto', width='100%'), width=1024)"
      ]
     },
     "metadata": {},
     "output_type": "display_data"
    }
   ],
   "source": [
    "## Define material properties\n",
    "mapdl.mp(\"EX\", 1, 2e5)  # Youngs modulus\n",
    "mapdl.mp(\"PRXY\", 1, 0.3367)  # Poissons ratio\n",
    "\n",
    "## Define element attributes\n",
    "mapdl.et(1, \"SOLID185\") # 3D 8-Node Layered Solid\n",
    "\n",
    "## Define mesh controls\n",
    "\n",
    "mapdl.lesize(\"ALL\", 0.001, layer1=1)\n",
    "mapdl.mshape(1, \"3D\")    # mesh the volume with 3D Tetrahedral elements\n",
    "mapdl.mshkey(1)          # free mesh\n",
    "mapdl.vmesh('all')\n",
    "mapdl.eplot()"
   ]
  },
  {
   "cell_type": "code",
   "execution_count": null,
   "metadata": {},
   "outputs": [],
   "source": [
    "mapdl.exit()"
   ]
  }
 ],
 "metadata": {
  "kernelspec": {
   "display_name": "Ballistic_shield_design_optimization",
   "language": "python",
   "name": "python3"
  },
  "language_info": {
   "codemirror_mode": {
    "name": "ipython",
    "version": 3
   },
   "file_extension": ".py",
   "mimetype": "text/x-python",
   "name": "python",
   "nbconvert_exporter": "python",
   "pygments_lexer": "ipython3",
   "version": "3.11.6"
  }
 },
 "nbformat": 4,
 "nbformat_minor": 2
}
