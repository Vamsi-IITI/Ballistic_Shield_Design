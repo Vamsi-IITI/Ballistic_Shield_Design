{
 "cells": [
  {
   "cell_type": "markdown",
   "metadata": {},
   "source": [
    "### Step 1 - Launch PyMAPDL"
   ]
  },
  {
   "cell_type": "code",
   "execution_count": 1,
   "metadata": {},
   "outputs": [
    {
     "name": "stdout",
     "output_type": "stream",
     "text": [
      "Product:             Ansys Mechanical Enterprise\n",
      "MAPDL Version:       23.1\n",
      "ansys.mapdl Version: 0.64.0\n",
      "\n"
     ]
    }
   ],
   "source": [
    "import numpy as np\n",
    "import matplotlib.pyplot as plt\n",
    "from ansys.mapdl.core import launch_mapdl\n",
    "\n",
    "# start mapdl\n",
    "mapdl = launch_mapdl()\n",
    "print(mapdl)"
   ]
  },
  {
   "cell_type": "markdown",
   "metadata": {},
   "source": [
    "### Step 2 - Model the honeycomb structure using python function"
   ]
  },
  {
   "cell_type": "code",
   "execution_count": 2,
   "metadata": {},
   "outputs": [],
   "source": [
    "# For checking\n",
    "# mapdl.open_gui()"
   ]
  },
  {
   "cell_type": "code",
   "execution_count": 3,
   "metadata": {},
   "outputs": [
    {
     "data": {
      "application/vnd.jupyter.widget-view+json": {
       "model_id": "462af144140746f9a4073006a1726052",
       "version_major": 2,
       "version_minor": 0
      },
      "text/plain": [
       "ViewInteractiveWidget(height=768, layout=Layout(height='auto', width='100%'), width=1024)"
      ]
     },
     "metadata": {},
     "output_type": "display_data"
    }
   ],
   "source": [
    "## reset mapdl\n",
    "mapdl.clear()\n",
    "mapdl.prep7()\n",
    "\n",
    "## Create geometry\n",
    "mapdl.rprism(0, 4, 6, 3)  # Create a rectangular prism  using mapdl.rprism(z1='', z2='', nsides='', lside='', majrad='', minrad='', **kwargs)\n",
    "mapdl.rprism(0, 4, 6, 2)\n",
    "mapdl.vsbv(1,'all')\n",
    "# mapdl.cm(\"PRISM\", \"VOLU\")\n",
    "mapdl.vplot('all')"
   ]
  },
  {
   "cell_type": "code",
   "execution_count": 4,
   "metadata": {},
   "outputs": [
    {
     "data": {
      "application/vnd.jupyter.widget-view+json": {
       "model_id": "8a748706d3674841a34132e68aa69c69",
       "version_major": 2,
       "version_minor": 0
      },
      "text/plain": [
       "ViewInteractiveWidget(height=768, layout=Layout(height='auto', width='100%'), width=1024)"
      ]
     },
     "metadata": {},
     "output_type": "display_data"
    }
   ],
   "source": [
    "## Define material properties\n",
    "mapdl.mp(\"EX\", 1, 2e5)  # Youngs modulus\n",
    "mapdl.mp(\"PRXY\", 1, 0.3367)  # Poissons ratio\n",
    "\n",
    "## Define mesh controls\n",
    "\n",
    "# mapdl.aesize(\"ALL\", 1)\n",
    "# mapdl.mshape(0, \"3D\")  # mesh the volume with 3D Hex elements\n",
    "# mapdl.mshkey(1)  # mapped mesh\n",
    "# mapdl.cmsel(\"S\", \"PRISM\")  # Select the area component to be meshed\n",
    "# mapdl.vmesh(\"ALL\")\n",
    "\n",
    "mapdl.lesize(\"ALL\", 0.1, layer1=1)\n",
    "\n",
    "## Define element attributes\n",
    "mapdl.et(1, \"SOLID185\") # 3D 8-Node Layered Solid\n",
    "# mapdl.et(1,'SOLID186')\n",
    "mapdl.mshape(1, \"3D\")\n",
    "mapdl.mshkey(0)         \n",
    "mapdl.vmesh('all')\n",
    "mapdl.eplot()\n",
    "## Define boundary conditions"
   ]
  },
  {
   "cell_type": "code",
   "execution_count": 5,
   "metadata": {},
   "outputs": [],
   "source": [
    "# mapdl.open_gui()"
   ]
  },
  {
   "cell_type": "code",
   "execution_count": null,
   "metadata": {},
   "outputs": [],
   "source": [
    "def honeycomb(parameters):\n",
    "    pass"
   ]
  },
  {
   "cell_type": "markdown",
   "metadata": {},
   "source": []
  },
  {
   "cell_type": "code",
   "execution_count": null,
   "metadata": {},
   "outputs": [],
   "source": [
    "# Define model input parameters\n",
    "rad1 = 175  # Internal radius\n",
    "rad2 = 200  # External radius\n",
    "pressure = 100\n",
    "\n",
    "##### Material properties #####\n",
    "\n",
    "### For Honeycomb core ( Aluminium 5083, H111)\n",
    "e = 2e5      # Young's modulus\n",
    "nu = 0.3367  # Poisson's ratio\n",
    "rho = 2657   # Density (kg/m^3)\n",
    "\n",
    "## Johnson Cook Plasticity model parameters\n",
    "\n",
    "A = 1.67e8  # Initial Yield Stress ( Pa )\n",
    "B = 5.90e8  # Hardening coefficient ( Pa )\n",
    "C = 0.001   # Hardening exponent\n",
    "D = 0.551   # Strain rate constant\n",
    "m = 0       # Thermal softening exponent\n",
    "Tm = 893    # Melting temperature ( C )\n",
    "Tr = 25     # Room temperature ( C )\n",
    "ref_strain_rate = 1 # Reference strain rate ( 1/s )\n",
    "\n",
    "## Johnson Cook Damage/Failure model parameters\n",
    "\n",
    "D1 = 0.0261         # Damage constant D1 \n",
    "D2 = 0.263          # Damage constant D2\n",
    "D3 = -0.349         # Damage constant D3\n",
    "D4 = 0.247          # Damage constant D4\n",
    "D5 = 16.8           # Damage constant D5\n",
    "ref_strain_rate = 1 # Reference strain rate ( 1/s )\n"
   ]
  },
  {
   "cell_type": "code",
   "execution_count": null,
   "metadata": {},
   "outputs": [],
   "source": [
    "mapdl.exit()"
   ]
  }
 ],
 "metadata": {
  "kernelspec": {
   "display_name": "Ballistic_shield_design_optimization",
   "language": "python",
   "name": "python3"
  },
  "language_info": {
   "codemirror_mode": {
    "name": "ipython",
    "version": 3
   },
   "file_extension": ".py",
   "mimetype": "text/x-python",
   "name": "python",
   "nbconvert_exporter": "python",
   "pygments_lexer": "ipython3",
   "version": "3.11.6"
  },
  "orig_nbformat": 4
 },
 "nbformat": 4,
 "nbformat_minor": 2
}
