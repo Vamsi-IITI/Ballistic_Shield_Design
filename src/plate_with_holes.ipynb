{
 "cells": [
  {
   "cell_type": "markdown",
   "id": "ff63acea",
   "metadata": {},
   "source": [
    "# Parametric model of plate with multiple holes"
   ]
  },
  {
   "cell_type": "markdown",
   "id": "46fdf9e6",
   "metadata": {},
   "source": [
    "### Objective:\n",
    "In this example we'll setup a parametric model in PyMAPDL for a rectangular plate with multiple holes. The model is setup such that one can change the dimensions of the plate, the number of holes and their radius, the material properties and the pressure applied.\n",
    "\n",
    "The learning objectives of this demo are:\n",
    "* Launch PyMAPDL on a local machine\n",
    "* Setup and solve a parametric model using PyMAPDL\n",
    "* Interactive plotting of CAD, mesh, and results in Pythonic interface."
   ]
  },
  {
   "cell_type": "markdown",
   "id": "4c801db2",
   "metadata": {},
   "source": [
    "### Model Details\n",
    "<div>\n",
    "    <img src=\"attachment:plate_with_hole.png\" width=\"500\"/>\n",
    "</div>\n",
    "\n",
    "#### Model parameters:\n",
    "* Length, width and depth of the plate\n",
    "* Number of holes\n",
    "* Raidus of the holes\n",
    "* Material properties (Young's modulus and Poisson's ratio)\n",
    "* Applied pressure"
   ]
  },
  {
   "cell_type": "markdown",
   "id": "b3708f0d",
   "metadata": {},
   "source": [
    "## Step 1 - define all parameters"
   ]
  },
  {
   "cell_type": "code",
   "execution_count": 1,
   "id": "60b6fc44",
   "metadata": {},
   "outputs": [],
   "source": [
    "# All units in (m, Kg, s)\n",
    "LENGTH = 5\n",
    "WIDTH = 2.5\n",
    "DEPTH = 0.1\n",
    "RADIUS = 0.5\n",
    "NUM = 3\n",
    "\n",
    "E = 2e11\n",
    "NU = 0.27\n",
    "\n",
    "PRESSURE = 1000"
   ]
  },
  {
   "cell_type": "markdown",
   "id": "f076d880",
   "metadata": {},
   "source": [
    "# Step 2 - launch MAPDL and create geometry"
   ]
  },
  {
   "cell_type": "code",
   "execution_count": 2,
   "id": "ccaf0f54",
   "metadata": {},
   "outputs": [
    {
     "data": {
      "application/vnd.jupyter.widget-view+json": {
       "model_id": "4e5df9e9d9834959adfac87267cd2c17",
       "version_major": 2,
       "version_minor": 0
      },
      "text/plain": [
       "ViewInteractiveWidget(height=768, layout=Layout(height='auto', width='100%'), width=1024)"
      ]
     },
     "metadata": {},
     "output_type": "display_data"
    }
   ],
   "source": [
    "from ansys.mapdl.core import launch_mapdl\n",
    "mapdl = launch_mapdl()\n",
    "\n",
    "mapdl.clear()\n",
    "mapdl.prep7()\n",
    "mapdl.block(0, LENGTH, 0, WIDTH, 0, DEPTH)\n",
    "for i in range(1,NUM+1):\n",
    "    mapdl.cyl4(i*LENGTH/(NUM+1),WIDTH/2,RADIUS,'','','',2*DEPTH)\n",
    "mapdl.vsbv(1,'all')\n",
    "mapdl.vplot('all')"
   ]
  },
  {
   "cell_type": "markdown",
   "id": "e8c2af6f",
   "metadata": {},
   "source": [
    "## Step 3 - define material properties, mesh attributes and generate mesh."
   ]
  },
  {
   "cell_type": "code",
   "execution_count": 3,
   "id": "dbef9ba5",
   "metadata": {},
   "outputs": [
    {
     "data": {
      "application/vnd.jupyter.widget-view+json": {
       "model_id": "bea7dc9bdeed4dcdb8b2174c9d9129e0",
       "version_major": 2,
       "version_minor": 0
      },
      "text/plain": [
       "ViewInteractiveWidget(height=768, layout=Layout(height='auto', width='100%'), width=1024)"
      ]
     },
     "metadata": {},
     "output_type": "display_data"
    }
   ],
   "source": [
    "mapdl.lesize(\"ALL\", 0.15, layer1=1)\n",
    "\n",
    "mapdl.mp('ex',1,E)\n",
    "mapdl.mp('nuxy',1,NU)\n",
    "\n",
    "mapdl.et(1,'SOLID186')\n",
    "mapdl.mshape(1, \"3D\")\n",
    "mapdl.mshkey(0)\n",
    "mapdl.vmesh('all')\n",
    "mapdl.eplot()"
   ]
  },
  {
   "cell_type": "markdown",
   "id": "49a583cb",
   "metadata": {},
   "source": [
    "## Step 4 - apply loads and boundary conditions"
   ]
  },
  {
   "cell_type": "code",
   "execution_count": 4,
   "id": "de8713af",
   "metadata": {},
   "outputs": [
    {
     "data": {
      "text/plain": [
       "***** ROUTINE COMPLETED *****  CP =         0.984"
      ]
     },
     "execution_count": 4,
     "metadata": {},
     "output_type": "execute_result"
    }
   ],
   "source": [
    "mapdl.nsel('s','loc','x',0)\n",
    "mapdl.d('all','all',0)\n",
    "\n",
    "mapdl.nsel('s','loc','x', LENGTH)\n",
    "mapdl.sf('all','pres',PRESSURE)\n",
    "\n",
    "mapdl.allsel()\n",
    "mapdl.finish()"
   ]
  },
  {
   "cell_type": "markdown",
   "id": "c7e358d5",
   "metadata": {},
   "source": [
    "## Step 4 - solve the static problem"
   ]
  },
  {
   "cell_type": "code",
   "execution_count": 5,
   "id": "06f2eb58",
   "metadata": {},
   "outputs": [
    {
     "data": {
      "text/plain": [
       "FINISH SOLUTION PROCESSING\n",
       "\n",
       "\n",
       " ***** ROUTINE COMPLETED *****  CP =         2.031"
      ]
     },
     "execution_count": 5,
     "metadata": {},
     "output_type": "execute_result"
    }
   ],
   "source": [
    "mapdl.slashsolu()\n",
    "mapdl.solve()\n",
    "mapdl.finish()"
   ]
  },
  {
   "cell_type": "code",
   "execution_count": 6,
   "id": "74deb77d-f477-4073-bb53-daecd007c1fa",
   "metadata": {},
   "outputs": [
    {
     "name": "stdout",
     "output_type": "stream",
     "text": [
      "*** NOTE ***                            CP =       2.281   TIME= 17:07:08\n",
      " The automatic domain decomposition logic has selected the MESH domain   \n",
      " decomposition method with 2 processes per solution.                     \n",
      "\n",
      " *****  MAPDL SOLVE    COMMAND  *****\n",
      "\n",
      " *** NOTE ***                            CP =       2.281   TIME= 17:07:08\n",
      " There is no title defined for this analysis.                            \n",
      "\n",
      " *** SELECTION OF ELEMENT TECHNOLOGIES FOR APPLICABLE ELEMENTS ***\n",
      "                ---GIVE SUGGESTIONS ONLY---\n",
      "\n",
      " ELEMENT TYPE         1 IS SOLID186. KEYOPT(2) IS ALREADY SET AS SUGGESTED.\n",
      "\n",
      "\n",
      "\n",
      " *** MAPDL - ENGINEERING ANALYSIS SYSTEM  RELEASE 2023 R1          23.1     ***\n",
      " Ansys Mechanical Enterprise                       \n",
      " 20120530  VERSION=WINDOWS x64   17:07:08  SEP 08, 2023 CP=      2.312\n",
      "\n",
      "                                                                               \n",
      "\n",
      "\n",
      "\n",
      "                       S O L U T I O N   O P T I O N S\n",
      "\n",
      "   PROBLEM DIMENSIONALITY. . . . . . . . . . . . .3-D                  \n",
      "   DEGREES OF FREEDOM. . . . . . UX   UY   UZ  \n",
      "   ANALYSIS TYPE . . . . . . . . . . . . . . . . .STATIC (STEADY-STATE)\n",
      "   GLOBALLY ASSEMBLED MATRIX . . . . . . . . . . .SYMMETRIC  \n",
      "\n",
      " *** NOTE ***                            CP =       2.312   TIME= 17:07:08\n",
      " Present time 0 is less than or equal to the previous time.  Time will   \n",
      " default to 1.                                                           \n",
      "\n",
      " *** NOTE ***                            CP =       2.312   TIME= 17:07:08\n",
      " The conditions for direct assembly have been met.  No .emat or .erot    \n",
      " files will be produced.                                                 \n",
      "\n",
      "  \n",
      "  \n",
      "     D I S T R I B U T E D   D O M A I N   D E C O M P O S E R\n",
      "  \n",
      "  ...Number of elements: 3278\n",
      "  ...Number of nodes:    7036\n",
      "  ...Decompose to 2 CPU domains\n",
      "  ...Element load balance ratio =     1.000\n",
      "\n",
      "\n",
      "                      L O A D   S T E P   O P T I O N S\n",
      "\n",
      "   LOAD STEP NUMBER. . . . . . . . . . . . . . . .     1\n",
      "   TIME AT END OF THE LOAD STEP. . . . . . . . . .  1.0000    \n",
      "   NUMBER OF SUBSTEPS. . . . . . . . . . . . . . .     1\n",
      "   STEP CHANGE BOUNDARY CONDITIONS . . . . . . . .    NO\n",
      "   PRINT OUTPUT CONTROLS . . . . . . . . . . . . .NO PRINTOUT\n",
      "   DATABASE OUTPUT CONTROLS. . . . . . . . . . . .ALL DATA WRITTEN\n",
      "                                                  FOR THE LAST SUBSTEP\n",
      "\n",
      "\n",
      " SOLUTION MONITORING INFO IS WRITTEN TO FILE= file.mntr                                                                                                                                                                                                                                                           \n",
      "\n",
      "\n",
      " Range of element maximum matrix coefficients in global coordinates\n",
      " Maximum = 1.054464748E+11 at element 359.                               \n",
      " Minimum = 8.300811073E+09 at element 1867.                              \n",
      "\n",
      "   *** ELEMENT MATRIX FORMULATION TIMES\n",
      "     TYPE    NUMBER   ENAME      TOTAL CP  AVE CP\n",
      "\n",
      "        1      3278  SOLID186      0.375   0.000114\n",
      " Time at end of element matrix formulation CP = 2.6875.                  \n",
      "\n",
      " DISTRIBUTED SPARSE MATRIX DIRECT SOLVER.\n",
      "  Number of equations =       20769,    Maximum wavefront =    168\n",
      "\n",
      "  Process memory allocated for solver              =    32.299 MB\n",
      "  Process memory required for in-core solution     =    31.072 MB\n",
      "  Process memory required for out-of-core solution =    18.006 MB\n",
      "\n",
      "  Total memory allocated for solver                =    64.242 MB\n",
      "  Total memory required for in-core solution       =    61.787 MB\n",
      "  Total memory required for out-of-core solution   =    35.451 MB\n",
      "\n",
      " *** NOTE ***                            CP =       2.844   TIME= 17:07:08\n",
      " The Distributed Sparse Matrix Solver is currently running in the        \n",
      " in-core memory mode.  This memory mode uses the most amount of memory   \n",
      " in order to avoid using the hard drive as much as possible, which most  \n",
      " often results in the fastest solution time.  This mode is recommended   \n",
      " if enough physical memory is present to accommodate all of the solver   \n",
      " data.                                                                   \n",
      " Distributed sparse solver maximum pivot= 1.238589586E+11 at node 5673   \n",
      " UX.                                                                     \n",
      " Distributed sparse solver minimum pivot= 6697804.76 at node 4513 UZ.    \n",
      " Distributed sparse solver minimum pivot in absolute value= 6697804.76   \n",
      " at node 4513 UZ.                                                        \n",
      "\n",
      "   *** ELEMENT RESULT CALCULATION TIMES\n",
      "     TYPE    NUMBER   ENAME      TOTAL CP  AVE CP\n",
      "\n",
      "        1      3278  SOLID186      0.172   0.000052\n",
      "\n",
      "   *** NODAL LOAD CALCULATION TIMES\n",
      "     TYPE    NUMBER   ENAME      TOTAL CP  AVE CP\n",
      "\n",
      "        1      3278  SOLID186      0.031   0.000010\n",
      " *** LOAD STEP     1   SUBSTEP     1  COMPLETED.    CUM ITER =      1\n",
      " *** TIME =   1.00000         TIME INC =   1.00000      NEW TRIANG MATRIX\n",
      "\n",
      "\n",
      " *** MAPDL BINARY FILE STATISTICS\n",
      "  BUFFER SIZE USED= 16384\n",
      "        4.812 MB WRITTEN ON ASSEMBLED MATRIX FILE: file0.full\n",
      "        2.312 MB WRITTEN ON RESULTS FILE: file0.rst\n"
     ]
    }
   ],
   "source": [
    "# enter the solver routine and solve \n",
    "mapdl.slashsolu()\n",
    "output = mapdl.solve()\n",
    "\n",
    "print(output)"
   ]
  },
  {
   "cell_type": "markdown",
   "id": "752c949d",
   "metadata": {},
   "source": [
    "## Step 5 - plot the stress contours for the model"
   ]
  },
  {
   "cell_type": "code",
   "execution_count": 7,
   "id": "785360c7",
   "metadata": {},
   "outputs": [
    {
     "data": {
      "application/vnd.jupyter.widget-view+json": {
       "model_id": "b2450da4943b426788ee4e3707d4454e",
       "version_major": 2,
       "version_minor": 0
      },
      "text/plain": [
       "ViewInteractiveWidget(height=768, layout=Layout(height='auto', width='100%'), width=1024)"
      ]
     },
     "metadata": {},
     "output_type": "display_data"
    }
   ],
   "source": [
    "result = mapdl.result\n",
    "result.plot_principal_nodal_stress(0,'seqv',background='w',show_edges=True,text_color='k',add_text=True)"
   ]
  },
  {
   "cell_type": "markdown",
   "id": "e064eea6",
   "metadata": {},
   "source": [
    "## Step 6 - exit MAPDL"
   ]
  },
  {
   "cell_type": "code",
   "execution_count": 8,
   "id": "c87dedd1",
   "metadata": {},
   "outputs": [],
   "source": [
    "mapdl.exit()"
   ]
  }
 ],
 "metadata": {
  "kernelspec": {
   "display_name": "Python 3 (ipykernel)",
   "language": "python",
   "name": "python3"
  },
  "language_info": {
   "codemirror_mode": {
    "name": "ipython",
    "version": 3
   },
   "file_extension": ".py",
   "mimetype": "text/x-python",
   "name": "python",
   "nbconvert_exporter": "python",
   "pygments_lexer": "ipython3",
   "version": "3.11.6"
  }
 },
 "nbformat": 4,
 "nbformat_minor": 5
}
