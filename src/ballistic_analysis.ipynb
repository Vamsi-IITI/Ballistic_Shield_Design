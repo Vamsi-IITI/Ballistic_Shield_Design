{
 "cells": [
  {
   "cell_type": "markdown",
   "metadata": {},
   "source": [
    "# Numerical Simulation of Ballistic Performance of Honeycomb Sandwich Panels"
   ]
  },
  {
   "cell_type": "markdown",
   "metadata": {},
   "source": [
    "### Objective:\n",
    "Setup a parametric model in PyMAPDL for a honeycomb sandwich panel. Use it for running a Ballistic impact simulation\n",
    "\n",
    "The learning objectives of this demo are:\n",
    "* Setup and solve a parametric model using PyMAPDL\n",
    "* Interactive plotting of CAD, mesh, and results in Pythonic interface."
   ]
  },
  {
   "cell_type": "markdown",
   "metadata": {},
   "source": [
    "### Model Details\n",
    "\n",
    "#### Model parameters:\n",
    "* Cell size\n",
    "* Cell wall thickness\n",
    "* Node length\n",
    "* Facesheet thickness"
   ]
  },
  {
   "cell_type": "markdown",
   "metadata": {},
   "source": [
    "## Step 1 - define all parameters"
   ]
  },
  {
   "cell_type": "code",
   "execution_count": 1,
   "metadata": {},
   "outputs": [],
   "source": [
    "## Main parameters\n",
    "cell_size = 0.006\n",
    "cell_wall_thickness = 0.002\n",
    "node_length = 0.004\n",
    "facesheet_thickness = 0.005"
   ]
  },
  {
   "cell_type": "code",
   "execution_count": 2,
   "metadata": {},
   "outputs": [],
   "source": [
    "# Fixed constants\n",
    "structure_length = 0.1\n",
    "structure_breadth = 0.1"
   ]
  },
  {
   "cell_type": "code",
   "execution_count": 3,
   "metadata": {},
   "outputs": [
    {
     "name": "stdout",
     "output_type": "stream",
     "text": [
      "L =  0.0034641016151377548\n",
      "offset_x =  0.008\n",
      "offset_y =  0.0069282032302755096\n",
      "Nx =  13\n",
      "Ny =  15\n"
     ]
    }
   ],
   "source": [
    "# Import libraries\n",
    "import numpy as np\n",
    "import matplotlib.pyplot as plt\n",
    "\n",
    "# Additional calculation \n",
    "L = cell_size/ np.sqrt(3)\n",
    "offset_x = cell_size + cell_wall_thickness\n",
    "offset_y = 1.5*L + cell_wall_thickness*(np.sin(np.pi/3))\n",
    "Nx = int(structure_length / offset_x) + 1\n",
    "Ny = int(structure_breadth / offset_y) + 1\n",
    "print(\"L = \", L)\n",
    "print(\"offset_x = \", offset_x)\n",
    "print(\"offset_y = \", offset_y)\n",
    "print(\"Nx = \", Nx)\n",
    "print(\"Ny = \", Ny)"
   ]
  },
  {
   "cell_type": "markdown",
   "metadata": {},
   "source": [
    "# Step 2 - launch MAPDL and create geometry"
   ]
  },
  {
   "cell_type": "code",
   "execution_count": 4,
   "metadata": {},
   "outputs": [
    {
     "name": "stdout",
     "output_type": "stream",
     "text": [
      "PyMAPDL is taking longer than expected to connect to an MAPDL session.\n",
      "Checking if there are any available licenses...\n",
      "Product:             Ansys Mechanical Enterprise\n",
      "MAPDL Version:       23.1\n",
      "ansys.mapdl Version: 0.64.0\n",
      "\n"
     ]
    }
   ],
   "source": [
    "from ansys.mapdl.core import launch_mapdl\n",
    "\n",
    "# start mapdl\n",
    "mapdl = launch_mapdl()\n",
    "print(mapdl)"
   ]
  },
  {
   "cell_type": "code",
   "execution_count": 5,
   "metadata": {},
   "outputs": [
    {
     "data": {
      "application/vnd.jupyter.widget-view+json": {
       "model_id": "6d306d3e8e2a4b02817aea05a181a50a",
       "version_major": 2,
       "version_minor": 0
      },
      "text/plain": [
       "ViewInteractiveWidget(height=768, layout=Layout(height='auto', width='100%'), width=1024)"
      ]
     },
     "metadata": {},
     "output_type": "display_data"
    }
   ],
   "source": [
    "## reset mapdl\n",
    "mapdl.clear()\n",
    "\n",
    "## enter the preprocessor\n",
    "mapdl.prep7()\n",
    "\n",
    "mapdl.units('SI')      # SI unit system\n",
    "\n",
    "## Create geometry\n",
    "mapdl.block(0, structure_length, 0, structure_breadth, 0, node_length)\n",
    "\n",
    "plate = mapdl.cm(\"PLATE\", \"VOLU\")\n",
    "\n",
    "mapdl.clocal( 11, 0, structure_length/2, structure_breadth/2, 0)                                         ## Making local coordinate system\n",
    "mapdl.wpcsys('', 11,)                                                                                    ## Shift working plane\n",
    "\n",
    "initial_distance = node_length + 0.02                                              ## 20 mm from center of front facesheet of sandwich panel\n",
    "\n",
    "# 0.44 Remington Magnum Bullet\n",
    "mapdl.cone(0.00545, 0.005486, initial_distance , initial_distance + 0.00825)\n",
    "mapdl.cone(0.00569, 0.005805, initial_distance + 0.00825 , initial_distance + 0.04089 )\n",
    "mapdl.vadd(1,2)\n",
    "bullet = mapdl.cm(\"BULLET\",\"VOLU\")\n",
    "\n",
    "mapdl.csdele(11)                                                                   ## Delete local coordinate system\n",
    "# mapdl.input('bullet9.anf')\n",
    "\n",
    "mapdl.vplot('all')"
   ]
  },
  {
   "cell_type": "markdown",
   "metadata": {},
   "source": [
    "## Step 3 - define material properties, mesh attributes and generate mesh"
   ]
  },
  {
   "cell_type": "code",
   "execution_count": 6,
   "metadata": {},
   "outputs": [
    {
     "data": {
      "application/vnd.jupyter.widget-view+json": {
       "model_id": "fc9db252691f4d08ad34f9b5f94107dd",
       "version_major": 2,
       "version_minor": 0
      },
      "text/plain": [
       "ViewInteractiveWidget(height=768, layout=Layout(height='auto', width='100%'), width=1024)"
      ]
     },
     "metadata": {},
     "output_type": "display_data"
    }
   ],
   "source": [
    "## Define material properties\n",
    "mapdl.mp(\"EX\", 1, 2e5)  # Youngs modulus\n",
    "mapdl.mp(\"PRXY\", 1, 0.3367)  # Poissons ratio\n",
    "\n",
    "mapdl.tb(\"EVISC\",1)\n",
    "\n",
    "## Define element attributes\n",
    "mapdl.et(1, \"SOLID185\") # 3D 8-Node Layered Solid\n",
    "\n",
    "## Define mesh controls\n",
    "\n",
    "mapdl.lesize(\"ALL\", 0.001, layer1=1)\n",
    "\n",
    "# Mesh facesheets\n",
    "mapdl.mshape(0, \"3D\")    # mesh the volume with 3D Hexahedral elements\n",
    "mapdl.mshkey(1)          # mapped mesh\n",
    "mapdl.vmesh('PLATE')\n",
    "\n",
    "# # Mesh bullet\n",
    "mapdl.mshape(1, \"3D\")    # mesh the volume with 3D Tetrahedral elements\n",
    "mapdl.mshkey(0)          # free mesh\n",
    "mapdl.vmesh('BULLET')\n",
    "\n",
    "## Plot the mesh\n",
    "mapdl.eplot()"
   ]
  },
  {
   "cell_type": "markdown",
   "metadata": {},
   "source": [
    "## Step 4 - apply loads and boundary conditions"
   ]
  },
  {
   "cell_type": "code",
   "execution_count": 7,
   "metadata": {},
   "outputs": [],
   "source": [
    "# from ansys.dyna.core.pre.dynasolution import DynaSolution"
   ]
  },
  {
   "cell_type": "code",
   "execution_count": 8,
   "metadata": {},
   "outputs": [
    {
     "data": {
      "text/plain": [
       "SPECIFIED CONSTRAINT UX   FOR SELECTED NODES            1 TO       58787 BY           1\n",
       " REAL=  0.00000000       IMAG=  0.00000000    \n",
       " ADDITIONAL DOFS=  UY    UZ"
      ]
     },
     "execution_count": 8,
     "metadata": {},
     "output_type": "execute_result"
    }
   ],
   "source": [
    "### Make the lateral sides of the panel as fixed support i.e. set displacement of nodes to zero\n",
    "\n",
    "# Select all nodes at the x = 0 end of the sandwich panel\n",
    "mapdl.nsel(\"S\", \"LOC\", \"X\", 0)\n",
    "# Remove all degrees of freedom for all nodes in the selection\n",
    "mapdl.d(\"all\", \"all\")\n",
    "\n",
    "# Select all nodes at the x = structure_length end of the sandwich panel\n",
    "mapdl.nsel(\"S\", \"LOC\", \"X\", structure_length)\n",
    "# Remove all degrees of freedom for all nodes in the selection\n",
    "mapdl.d(\"all\", \"all\")\n",
    "\n",
    "# Select all nodes at the y = 0 end of the sandwich panel\n",
    "mapdl.nsel(\"S\", \"LOC\", \"Y\", 0)\n",
    "# Remove all degrees of freedom for all nodes in the selection\n",
    "mapdl.d(\"all\", \"all\")\n",
    "\n",
    "# Select all nodes at the y = structure_breadth end of the sandwich panel\n",
    "mapdl.nsel(\"S\", \"LOC\", \"Y\", structure_breadth)\n",
    "# Remove all degrees of freedom for all nodes in the selection\n",
    "mapdl.d(\"all\", \"all\")\n",
    "\n",
    "# # plot the boundary conditions\n",
    "# mapdl.nplot(plot_bc=True)\n",
    "\n",
    "# mapdl.edpart('ADD', partid='1', cname='BULLET')\n",
    "# mapdl.edpvel(option='VELO', pid='1', vz='400')\n",
    "# mapdl.edpvel('VELO', 'BULLET', vz='-400')"
   ]
  },
  {
   "cell_type": "markdown",
   "metadata": {},
   "source": [
    "## Step 5 - Simulation and Results"
   ]
  },
  {
   "cell_type": "code",
   "execution_count": 10,
   "metadata": {},
   "outputs": [],
   "source": [
    "# from ansys.dyna.core import pre\n",
    "# dyna_mech = pre.DynaDEM"
   ]
  },
  {
   "cell_type": "code",
   "execution_count": null,
   "metadata": {},
   "outputs": [],
   "source": [
    "from ansys.mapdl.core import Report\n",
    "print(Report())"
   ]
  },
  {
   "cell_type": "code",
   "execution_count": 11,
   "metadata": {},
   "outputs": [
    {
     "ename": "AttributeError",
     "evalue": "type object 'DynaDEM' has no attribute 'generate_keywords'",
     "output_type": "error",
     "traceback": [
      "\u001b[1;31m---------------------------------------------------------------------------\u001b[0m",
      "\u001b[1;31mAttributeError\u001b[0m                            Traceback (most recent call last)",
      "\u001b[1;32mc:\\Users\\HPRVa\\Ballistic_shield_design_optimization\\src\\ballistic_analysis.ipynb Cell 18\u001b[0m line \u001b[0;36m1\n\u001b[1;32m----> <a href='vscode-notebook-cell:/c%3A/Users/HPRVa/Ballistic_shield_design_optimization/src/ballistic_analysis.ipynb#X30sZmlsZQ%3D%3D?line=0'>1</a>\u001b[0m dyna_mech\u001b[39m.\u001b[39;49mgenerate_keywords()\n",
      "\u001b[1;31mAttributeError\u001b[0m: type object 'DynaDEM' has no attribute 'generate_keywords'"
     ]
    }
   ],
   "source": [
    "# dyna_mech.generate_keywords()\n"
   ]
  },
  {
   "cell_type": "code",
   "execution_count": 12,
   "metadata": {},
   "outputs": [
    {
     "ename": "MapdlRuntimeError",
     "evalue": "\n\nError in instance GRPC_127.0.0.1:50052\n\n*** ERROR ***                           CP =       1.828   TIME= 14:59:42\n The capability LsDyna was either not ordered with this Ansys            \n installation or the appropriate product was not selected for this       \n session.                                                                \n  Contact your Ansys support person for more information.",
     "output_type": "error",
     "traceback": [
      "\u001b[1;31m---------------------------------------------------------------------------\u001b[0m",
      "\u001b[1;31mMapdlRuntimeError\u001b[0m                         Traceback (most recent call last)",
      "\u001b[1;32mc:\\Users\\HPRVa\\Ballistic_shield_design_optimization\\src\\ballistic_analysis.ipynb Cell 19\u001b[0m line \u001b[0;36m1\n\u001b[1;32m----> <a href='vscode-notebook-cell:/c%3A/Users/HPRVa/Ballistic_shield_design_optimization/src/ballistic_analysis.ipynb#X26sZmlsZQ%3D%3D?line=0'>1</a>\u001b[0m mapdl\u001b[39m.\u001b[39;49medpvel(\u001b[39m'\u001b[39;49m\u001b[39mVELO\u001b[39;49m\u001b[39m'\u001b[39;49m, \u001b[39m'\u001b[39;49m\u001b[39mBULLET\u001b[39;49m\u001b[39m'\u001b[39;49m, vz\u001b[39m=\u001b[39;49m\u001b[39m'\u001b[39;49m\u001b[39m-400\u001b[39;49m\u001b[39m'\u001b[39;49m)\n",
      "File \u001b[1;32mc:\\Users\\HPRVa\\Ballistic_shield_design_optimization\\Lib\\site-packages\\ansys\\mapdl\\core\\_commands\\preproc\\explicit_dynamics.py:3066\u001b[0m, in \u001b[0;36mExplicitDynamics.edpvel\u001b[1;34m(self, option, pid, vx, vy, vz, omegax, omegay, omegaz, xc, yc, zc, angx, angy, angz, **kwargs)\u001b[0m\n\u001b[0;32m   2942\u001b[0m \u001b[39m\u001b[39m\u001b[39m\"\"\"Applies initial velocities to parts or part assemblies in an explicit\u001b[39;00m\n\u001b[0;32m   2943\u001b[0m \n\u001b[0;32m   2944\u001b[0m \u001b[39mAPDL Command: EDPVEL\u001b[39;00m\n\u001b[1;32m   (...)\u001b[0m\n\u001b[0;32m   3063\u001b[0m \u001b[39mDistributed ANSYS.\u001b[39;00m\n\u001b[0;32m   3064\u001b[0m \u001b[39m\"\"\"\u001b[39;00m\n\u001b[0;32m   3065\u001b[0m command \u001b[39m=\u001b[39m \u001b[39mf\u001b[39m\u001b[39m\"\u001b[39m\u001b[39mEDPVEL,\u001b[39m\u001b[39m{\u001b[39;00moption\u001b[39m}\u001b[39;00m\u001b[39m,\u001b[39m\u001b[39m{\u001b[39;00mpid\u001b[39m}\u001b[39;00m\u001b[39m,\u001b[39m\u001b[39m{\u001b[39;00mvx\u001b[39m}\u001b[39;00m\u001b[39m,\u001b[39m\u001b[39m{\u001b[39;00mvy\u001b[39m}\u001b[39;00m\u001b[39m,\u001b[39m\u001b[39m{\u001b[39;00mvz\u001b[39m}\u001b[39;00m\u001b[39m,\u001b[39m\u001b[39m{\u001b[39;00momegax\u001b[39m}\u001b[39;00m\u001b[39m,\u001b[39m\u001b[39m{\u001b[39;00momegay\u001b[39m}\u001b[39;00m\u001b[39m,\u001b[39m\u001b[39m{\u001b[39;00momegaz\u001b[39m}\u001b[39;00m\u001b[39m,\u001b[39m\u001b[39m{\u001b[39;00mxc\u001b[39m}\u001b[39;00m\u001b[39m,\u001b[39m\u001b[39m{\u001b[39;00myc\u001b[39m}\u001b[39;00m\u001b[39m,\u001b[39m\u001b[39m{\u001b[39;00mzc\u001b[39m}\u001b[39;00m\u001b[39m,\u001b[39m\u001b[39m{\u001b[39;00mangx\u001b[39m}\u001b[39;00m\u001b[39m,\u001b[39m\u001b[39m{\u001b[39;00mangy\u001b[39m}\u001b[39;00m\u001b[39m,\u001b[39m\u001b[39m{\u001b[39;00mangz\u001b[39m}\u001b[39;00m\u001b[39m\"\u001b[39m\n\u001b[1;32m-> 3066\u001b[0m \u001b[39mreturn\u001b[39;00m \u001b[39mself\u001b[39;49m\u001b[39m.\u001b[39;49mrun(command, \u001b[39m*\u001b[39;49m\u001b[39m*\u001b[39;49mkwargs)\n",
      "File \u001b[1;32mc:\\Users\\HPRVa\\Ballistic_shield_design_optimization\\Lib\\site-packages\\ansys\\mapdl\\core\\mapdl.py:2882\u001b[0m, in \u001b[0;36m_MapdlCore.run\u001b[1;34m(self, command, write_to_log, mute, **kwargs)\u001b[0m\n\u001b[0;32m   2880\u001b[0m     \u001b[39m# flag errors\u001b[39;00m\n\u001b[0;32m   2881\u001b[0m     \u001b[39mif\u001b[39;00m \u001b[39m\"\u001b[39m\u001b[39m*** ERROR ***\u001b[39m\u001b[39m\"\u001b[39m \u001b[39min\u001b[39;00m \u001b[39mself\u001b[39m\u001b[39m.\u001b[39m_response:\n\u001b[1;32m-> 2882\u001b[0m         \u001b[39mself\u001b[39;49m\u001b[39m.\u001b[39;49m_raise_output_errors(\u001b[39mself\u001b[39;49m\u001b[39m.\u001b[39;49m_response)\n\u001b[0;32m   2884\u001b[0m \u001b[39m# special returns for certain geometry commands\u001b[39;00m\n\u001b[0;32m   2885\u001b[0m short_cmd \u001b[39m=\u001b[39m parse_to_short_cmd(command)\n",
      "File \u001b[1;32mc:\\Users\\HPRVa\\Ballistic_shield_design_optimization\\Lib\\site-packages\\ansys\\mapdl\\core\\mapdl.py:3880\u001b[0m, in \u001b[0;36m_MapdlCore._raise_output_errors\u001b[1;34m(self, response)\u001b[0m\n\u001b[0;32m   3874\u001b[0m     \u001b[39mcontinue\u001b[39;00m\n\u001b[0;32m   3875\u001b[0m \u001b[39melse\u001b[39;00m:\n\u001b[0;32m   3876\u001b[0m     \u001b[39m# We don't need to log exception because they already included in the main logger.\u001b[39;00m\n\u001b[0;32m   3877\u001b[0m     \u001b[39m# logger.error(response)\u001b[39;00m\n\u001b[0;32m   3878\u001b[0m     \u001b[39m# However, exceptions are recorded in the global logger which do not record\u001b[39;00m\n\u001b[0;32m   3879\u001b[0m     \u001b[39m# information of the instances name, hence we edit the error message.\u001b[39;00m\n\u001b[1;32m-> 3880\u001b[0m     \u001b[39mraise\u001b[39;00m MapdlRuntimeError(\n\u001b[0;32m   3881\u001b[0m         \u001b[39mf\u001b[39m\u001b[39m\"\u001b[39m\u001b[39m\\n\u001b[39;00m\u001b[39m\\n\u001b[39;00m\u001b[39mError in instance \u001b[39m\u001b[39m{\u001b[39;00m\u001b[39mself\u001b[39m\u001b[39m.\u001b[39mname\u001b[39m}\u001b[39;00m\u001b[39m\\n\u001b[39;00m\u001b[39m\\n\u001b[39;00m\u001b[39m\"\u001b[39m \u001b[39m+\u001b[39m error_message\n\u001b[0;32m   3882\u001b[0m     )\n",
      "\u001b[1;31mMapdlRuntimeError\u001b[0m: \n\nError in instance GRPC_127.0.0.1:50052\n\n*** ERROR ***                           CP =       1.828   TIME= 14:59:42\n The capability LsDyna was either not ordered with this Ansys            \n installation or the appropriate product was not selected for this       \n session.                                                                \n  Contact your Ansys support person for more information."
     ]
    }
   ],
   "source": [
    "# mapdl.edpvel('VELO', 'BULLET', vz='-400')"
   ]
  },
  {
   "cell_type": "code",
   "execution_count": null,
   "metadata": {},
   "outputs": [
    {
     "data": {
      "text/plain": [
       "S O L U T I O N   O P T I O N S\n",
       "\n",
       "   PROBLEM DIMENSIONALITY. . . . . . . . . . . . .3-D                  \n",
       "   DEGREES OF FREEDOM. . . . . . UX   UY   UZ  \n",
       "   ANALYSIS TYPE . . . . . . . . . . . . . . . . .TRANSIENT            \n",
       "      SOLUTION METHOD. . . . . . . . . . . . . . .FULL                 \n",
       "   GLOBALLY ASSEMBLED MATRIX . . . . . . . . . . .SYMMETRIC  \n",
       "\n",
       "                      L O A D   S T E P   O P T I O N S\n",
       "\n",
       "   LOAD STEP NUMBER. . . . . . . . . . . . . . . .     1\n",
       "   TIME AT END OF THE LOAD STEP. . . . . . . . . .  1.0000    \n",
       "   NUMBER OF SUBSTEPS. . . . . . . . . . . . . . .     1\n",
       "   STEP CHANGE BOUNDARY CONDITIONS . . . . . . . .DEFAULT\n",
       "   TRANSIENT (INERTIA) EFFECTS\n",
       "   TRANSIENT INTEGRATION PARAMETERS\n",
       "      ALPHA. . . . . . . . . . . . . . . . . . . . 0.25251    \n",
       "      DELTA. . . . . . . . . . . . . . . . . . . . 0.50500    \n",
       "   PRINT OUTPUT CONTROLS . . . . . . . . . . . . .NO PRINTOUT\n",
       "   DATABASE OUTPUT CONTROLS. . . . . . . . . . . .ALL DATA WRITTEN\n",
       "                                                  FOR THE LAST SUBSTEP"
      ]
     },
     "execution_count": 28,
     "metadata": {},
     "output_type": "execute_result"
    }
   ],
   "source": [
    "# mapdl.run(\"/SOLU\")\n",
    "# mapdl.antype(\"TRANS\")\n",
    "# mapdl.run(\"/STATUS,SOLU\")"
   ]
  },
  {
   "cell_type": "code",
   "execution_count": null,
   "metadata": {},
   "outputs": [
    {
     "ename": "MapdlRuntimeError",
     "evalue": "\n\nError in instance GRPC_127.0.0.1:50052\n\n*** ERROR ***                           CP =       2.062   TIME= 14:42:29\n The capability LsDyna was either not ordered with this Ansys            \n installation or the appropriate product was not selected for this       \n session.                                                                \n  Contact your Ansys support person for more information.",
     "output_type": "error",
     "traceback": [
      "\u001b[1;31m---------------------------------------------------------------------------\u001b[0m",
      "\u001b[1;31mMapdlRuntimeError\u001b[0m                         Traceback (most recent call last)",
      "\u001b[1;32mc:\\Users\\HPRVa\\Ballistic_shield_design_optimization\\src\\ballistic_analysis.ipynb Cell 18\u001b[0m line \u001b[0;36m1\n\u001b[1;32m----> <a href='vscode-notebook-cell:/c%3A/Users/HPRVa/Ballistic_shield_design_optimization/src/ballistic_analysis.ipynb#X24sZmlsZQ%3D%3D?line=0'>1</a>\u001b[0m mapdl\u001b[39m.\u001b[39;49medpvel(\u001b[39m'\u001b[39;49m\u001b[39mVELO\u001b[39;49m\u001b[39m'\u001b[39;49m, \u001b[39m'\u001b[39;49m\u001b[39mBULLET\u001b[39;49m\u001b[39m'\u001b[39;49m, vz\u001b[39m=\u001b[39;49m\u001b[39m'\u001b[39;49m\u001b[39m-400\u001b[39;49m\u001b[39m'\u001b[39;49m)\n",
      "File \u001b[1;32mc:\\Users\\HPRVa\\Ballistic_shield_design_optimization\\Lib\\site-packages\\ansys\\mapdl\\core\\_commands\\preproc\\explicit_dynamics.py:3066\u001b[0m, in \u001b[0;36mExplicitDynamics.edpvel\u001b[1;34m(self, option, pid, vx, vy, vz, omegax, omegay, omegaz, xc, yc, zc, angx, angy, angz, **kwargs)\u001b[0m\n\u001b[0;32m   2942\u001b[0m \u001b[39m\u001b[39m\u001b[39m\"\"\"Applies initial velocities to parts or part assemblies in an explicit\u001b[39;00m\n\u001b[0;32m   2943\u001b[0m \n\u001b[0;32m   2944\u001b[0m \u001b[39mAPDL Command: EDPVEL\u001b[39;00m\n\u001b[1;32m   (...)\u001b[0m\n\u001b[0;32m   3063\u001b[0m \u001b[39mDistributed ANSYS.\u001b[39;00m\n\u001b[0;32m   3064\u001b[0m \u001b[39m\"\"\"\u001b[39;00m\n\u001b[0;32m   3065\u001b[0m command \u001b[39m=\u001b[39m \u001b[39mf\u001b[39m\u001b[39m\"\u001b[39m\u001b[39mEDPVEL,\u001b[39m\u001b[39m{\u001b[39;00moption\u001b[39m}\u001b[39;00m\u001b[39m,\u001b[39m\u001b[39m{\u001b[39;00mpid\u001b[39m}\u001b[39;00m\u001b[39m,\u001b[39m\u001b[39m{\u001b[39;00mvx\u001b[39m}\u001b[39;00m\u001b[39m,\u001b[39m\u001b[39m{\u001b[39;00mvy\u001b[39m}\u001b[39;00m\u001b[39m,\u001b[39m\u001b[39m{\u001b[39;00mvz\u001b[39m}\u001b[39;00m\u001b[39m,\u001b[39m\u001b[39m{\u001b[39;00momegax\u001b[39m}\u001b[39;00m\u001b[39m,\u001b[39m\u001b[39m{\u001b[39;00momegay\u001b[39m}\u001b[39;00m\u001b[39m,\u001b[39m\u001b[39m{\u001b[39;00momegaz\u001b[39m}\u001b[39;00m\u001b[39m,\u001b[39m\u001b[39m{\u001b[39;00mxc\u001b[39m}\u001b[39;00m\u001b[39m,\u001b[39m\u001b[39m{\u001b[39;00myc\u001b[39m}\u001b[39;00m\u001b[39m,\u001b[39m\u001b[39m{\u001b[39;00mzc\u001b[39m}\u001b[39;00m\u001b[39m,\u001b[39m\u001b[39m{\u001b[39;00mangx\u001b[39m}\u001b[39;00m\u001b[39m,\u001b[39m\u001b[39m{\u001b[39;00mangy\u001b[39m}\u001b[39;00m\u001b[39m,\u001b[39m\u001b[39m{\u001b[39;00mangz\u001b[39m}\u001b[39;00m\u001b[39m\"\u001b[39m\n\u001b[1;32m-> 3066\u001b[0m \u001b[39mreturn\u001b[39;00m \u001b[39mself\u001b[39;49m\u001b[39m.\u001b[39;49mrun(command, \u001b[39m*\u001b[39;49m\u001b[39m*\u001b[39;49mkwargs)\n",
      "File \u001b[1;32mc:\\Users\\HPRVa\\Ballistic_shield_design_optimization\\Lib\\site-packages\\ansys\\mapdl\\core\\mapdl.py:2882\u001b[0m, in \u001b[0;36m_MapdlCore.run\u001b[1;34m(self, command, write_to_log, mute, **kwargs)\u001b[0m\n\u001b[0;32m   2880\u001b[0m     \u001b[39m# flag errors\u001b[39;00m\n\u001b[0;32m   2881\u001b[0m     \u001b[39mif\u001b[39;00m \u001b[39m\"\u001b[39m\u001b[39m*** ERROR ***\u001b[39m\u001b[39m\"\u001b[39m \u001b[39min\u001b[39;00m \u001b[39mself\u001b[39m\u001b[39m.\u001b[39m_response:\n\u001b[1;32m-> 2882\u001b[0m         \u001b[39mself\u001b[39;49m\u001b[39m.\u001b[39;49m_raise_output_errors(\u001b[39mself\u001b[39;49m\u001b[39m.\u001b[39;49m_response)\n\u001b[0;32m   2884\u001b[0m \u001b[39m# special returns for certain geometry commands\u001b[39;00m\n\u001b[0;32m   2885\u001b[0m short_cmd \u001b[39m=\u001b[39m parse_to_short_cmd(command)\n",
      "File \u001b[1;32mc:\\Users\\HPRVa\\Ballistic_shield_design_optimization\\Lib\\site-packages\\ansys\\mapdl\\core\\mapdl.py:3880\u001b[0m, in \u001b[0;36m_MapdlCore._raise_output_errors\u001b[1;34m(self, response)\u001b[0m\n\u001b[0;32m   3874\u001b[0m     \u001b[39mcontinue\u001b[39;00m\n\u001b[0;32m   3875\u001b[0m \u001b[39melse\u001b[39;00m:\n\u001b[0;32m   3876\u001b[0m     \u001b[39m# We don't need to log exception because they already included in the main logger.\u001b[39;00m\n\u001b[0;32m   3877\u001b[0m     \u001b[39m# logger.error(response)\u001b[39;00m\n\u001b[0;32m   3878\u001b[0m     \u001b[39m# However, exceptions are recorded in the global logger which do not record\u001b[39;00m\n\u001b[0;32m   3879\u001b[0m     \u001b[39m# information of the instances name, hence we edit the error message.\u001b[39;00m\n\u001b[1;32m-> 3880\u001b[0m     \u001b[39mraise\u001b[39;00m MapdlRuntimeError(\n\u001b[0;32m   3881\u001b[0m         \u001b[39mf\u001b[39m\u001b[39m\"\u001b[39m\u001b[39m\\n\u001b[39;00m\u001b[39m\\n\u001b[39;00m\u001b[39mError in instance \u001b[39m\u001b[39m{\u001b[39;00m\u001b[39mself\u001b[39m\u001b[39m.\u001b[39mname\u001b[39m}\u001b[39;00m\u001b[39m\\n\u001b[39;00m\u001b[39m\\n\u001b[39;00m\u001b[39m\"\u001b[39m \u001b[39m+\u001b[39m error_message\n\u001b[0;32m   3882\u001b[0m     )\n",
      "\u001b[1;31mMapdlRuntimeError\u001b[0m: \n\nError in instance GRPC_127.0.0.1:50052\n\n*** ERROR ***                           CP =       2.062   TIME= 14:42:29\n The capability LsDyna was either not ordered with this Ansys            \n installation or the appropriate product was not selected for this       \n session.                                                                \n  Contact your Ansys support person for more information."
     ]
    }
   ],
   "source": [
    "# mapdl.edpvel('VELO', 'BULLET', vz='-400')"
   ]
  },
  {
   "cell_type": "code",
   "execution_count": 13,
   "metadata": {},
   "outputs": [],
   "source": [
    "mapdl.exit()"
   ]
  }
 ],
 "metadata": {
  "kernelspec": {
   "display_name": "Ballistic_shield_design_optimization",
   "language": "python",
   "name": "python3"
  },
  "language_info": {
   "codemirror_mode": {
    "name": "ipython",
    "version": 3
   },
   "file_extension": ".py",
   "mimetype": "text/x-python",
   "name": "python",
   "nbconvert_exporter": "python",
   "pygments_lexer": "ipython3",
   "version": "3.11.6"
  }
 },
 "nbformat": 4,
 "nbformat_minor": 2
}
